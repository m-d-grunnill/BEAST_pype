{
 "cells": [
  {
   "cell_type": "markdown",
   "id": "6569e3baf80dc90d",
   "metadata": {
    "editable": true,
    "slideshow": {
     "slide_type": ""
    },
    "tags": []
   },
   "source": [
    "# BDSky Serial's Output Figures & Stats\n",
    "\n",
    "**A note on Birth Death Skyline Models**\n",
    "The results in this notebook are from a phylodynamics pipeline using Birth Death Skyline Models. Reading material on Birth Death Skyline Models can be found at:\n",
    "* [Taming the BEAST Tutorial: Skylineplots](https://taming-the-beast.org/tutorials/Skyline-plots/) \n",
    "* [Stadler et al. 2012 PNAS](https://www.pnas.org/doi/full/10.1073/pnas.1207965110)\n"
   ]
  },
  {
   "cell_type": "code",
   "execution_count": null,
   "id": "4578f9bf9f58f977",
   "metadata": {
    "editable": true,
    "slideshow": {
     "slide_type": ""
    },
    "tags": [
     "parameters"
    ]
   },
   "outputs": [],
   "source": [
    "save_dir = None\n",
    "metadata_path = '../../../example_data/COVID-19_BA.2.86/metadata.tsv'"
   ]
  },
  {
   "cell_type": "code",
   "execution_count": null,
   "id": "4ce45d9d7f6aebe8",
   "metadata": {},
   "outputs": [],
   "source": [
    "from beast_pype.outputs import (read_log_file, plot_skyline, plot_hist_kde, plot_origin_or_tmrca, hdi_columns_starting_with)\n",
    "from beast_pype.date_utilities import date_to_decimal\n",
    "import os\n",
    "import pandas as pd"
   ]
  },
  {
   "cell_type": "code",
   "execution_count": null,
   "id": "fee7d5ec823499a8",
   "metadata": {},
   "outputs": [],
   "source": [
    "if save_dir is None:\n",
    "    save_dir = os.getcwd()"
   ]
  },
  {
   "cell_type": "markdown",
   "id": "c7a334ed7a5b4749",
   "metadata": {},
   "source": [
    "Date pipeiline was run:"
   ]
  },
  {
   "cell_type": "code",
   "execution_count": null,
   "id": "a8618730-6598-4eee-ad4c-7083f16f724e",
   "metadata": {},
   "outputs": [],
   "source": [
    "display(save_dir.split('/')[-1].split('_')[0])"
   ]
  },
  {
   "cell_type": "code",
   "execution_count": null,
   "id": "c8242da75e634697",
   "metadata": {},
   "outputs": [],
   "source": [
    "#Load Trace:\n",
    "log_file = f'{save_dir}/merged.log'\n",
    "csv_file = f'{save_dir}/merged_log.csv'\n",
    "if os.path.isfile(log_file):\n",
    "    trace_file = log_file\n",
    "else:\n",
    "    trace_file = csv_file\n",
    "trace_df = read_log_file(trace_file)"
   ]
  },
  {
   "cell_type": "code",
   "execution_count": null,
   "id": "c4eb1052c266e16a",
   "metadata": {},
   "outputs": [],
   "source": [
    "if metadata_path.endswith('.tsv'):\n",
    "    delimiter = '\\t'\n",
    "elif metadata_path.endswith('.csv'):\n",
    "    delimiter = ','\n",
    "else:\n",
    "    raise TypeError(\n",
    "        f\"metadata_path must be a csv or tsv file, ending with the apporpraite file extension. Value given is {metadata_path}\")\n",
    "metadata_df = pd.read_csv(metadata_path, parse_dates=['date'], sep=delimiter)\n",
    "youngest_tip_date = metadata_df['date'].max()\n",
    "youngest_tip_year_decimal = date_to_decimal(youngest_tip_date)"
   ]
  },
  {
   "cell_type": "markdown",
   "id": "fe9ec79833844532",
   "metadata": {
    "tags": []
   },
   "source": [
    "## Infection Period \n",
    "\n",
    "BD Skyline models estimate the rate of becoming uninfectious (whose inverse if the average infection period). "
   ]
  },
  {
   "cell_type": "code",
   "execution_count": null,
   "id": "4f9426626e2aeef8",
   "metadata": {},
   "outputs": [],
   "source": [
    "uninfectious_cols = [col for col in trace_df.columns if col.startswith('becomeUninfectiousRate_BDSKY_Serial')]\n",
    "if len(uninfectious_cols) > 1:\n",
    "    for col in uninfectious_cols:\n",
    "        part = col.split('.')[1]\n",
    "        trace_df[f'Rate of Becoming Uninfectious (per day).{part}'] = trace_df[col] / 365\n",
    "        trace_df[f'Infection period (per day).{part}'] = 1 / trace_df[f'Rate of Becoming Uninfectious (per day).{part}']\n",
    "    infectious_fig, ax = plot_skyline(trace_df,\n",
    "                           youngest_tip_year_decimal ,\n",
    "                           parameter_start='Infection period (per day)',\n",
    "                           ylabel='Infection period (per day)',\n",
    "                           grid_size=100,\n",
    "                           include_grid=True)\n",
    "    infectious_hdi = hdi_columns_starting_with(trace_df, 'Infection period (per day)')\n",
    "elif len(uninfectious_cols) == 1:\n",
    "    trace_df['Rate of Becoming Uninfectious (per day)'] = trace_df['becomeUninfectiousRate_BDSKY_Serial'] / 365\n",
    "    trace_df['Infection period (per day)'] = 1 / trace_df['Rate of Becoming Uninfectious (per day)']\n",
    "    infectious_fig, ax, infectious_hdi = plot_hist_kde(trace_df=trace_df, parameter='Infection period (per day)', hdi_prob=0.95)\n",
    "else:\n",
    "    raise ValueError('Trace file does not contain any columns starting with \"becomeUninfectiousRate_BDSKY_Serial\".')\n",
    "display(infectious_hdi)"
   ]
  },
  {
   "cell_type": "markdown",
   "id": "e210d7239cc158c6",
   "metadata": {
    "tags": []
   },
   "source": [
    "# Sampling Proportion"
   ]
  },
  {
   "cell_type": "code",
   "execution_count": null,
   "id": "128ed603a966dbda",
   "metadata": {},
   "outputs": [],
   "source": [
    "def outputs_for_possible_skyline(trace_df, starting_with, axis_label, grid_size=100, include_grid=True):\n",
    "    cols_starting_with = [col for col in trace_df.columns if col.startswith(starting_with)]\n",
    "    if len(cols_starting_with) > 1:\n",
    "        fig, ax = plot_skyline(trace_df,\n",
    "                               youngest_tip_year_decimal,\n",
    "                               parameter_start=starting_with,\n",
    "                               ylabel=axis_label,\n",
    "                               grid_size=grid_size,\n",
    "                               include_grid=include_grid)\n",
    "        hdi = hdi_columns_starting_with(trace_df, starting_with)\n",
    "    elif len(cols_starting_with) == 1:\n",
    "        fig, ax, hdi = plot_hist_kde(trace_df=trace_df, parameter=starting_with, hdi_prob=0.95, xlabel=axis_label)\n",
    "    else:\n",
    "        raise ValueError(f'Trace file does not contain any columns starting with \"{starting_with}\".')\n",
    "    return fig, ax, hdi\n",
    "\n",
    "sampling_fig, ax, sampling_hdi = outputs_for_possible_skyline(trace_df, 'samplingProportion_BDSKY_Serial', axis_label='Sampling Proportion (p)')\n",
    "display(sampling_hdi)"
   ]
  },
  {
   "cell_type": "markdown",
   "id": "6e9157d1bc1de03a",
   "metadata": {},
   "source": [
    "# Origin\n",
    "\n",
    "The origin is the time at which the index case (the first case) became infected, which is slightly earlier than the time-to-the-most-recent-common-ancestor (TMRCA). "
   ]
  },
  {
   "cell_type": "code",
   "execution_count": null,
   "id": "bd1b5946bcc84650",
   "metadata": {},
   "outputs": [],
   "source": [
    "trace_df['Origin'] = youngest_tip_year_decimal  - trace_df['origin_BDSKY_Serial']\n",
    "fig, ax, hdi_est =  plot_origin_or_tmrca(trace_df, parameter='Origin', x_tick_freq='weekly', hdi_prob=0.95)\n",
    "display({key: value.strftime('%Y-%m-%d') for key, value in hdi_est.items()})"
   ]
  },
  {
   "cell_type": "markdown",
   "id": "8c016a8eb099e61",
   "metadata": {},
   "source": [
    "# TMRCA"
   ]
  },
  {
   "cell_type": "code",
   "execution_count": null,
   "id": "e0b5aae71ba671c9",
   "metadata": {},
   "outputs": [],
   "source": [
    "trace_df['TMRCA'] = youngest_tip_year_decimal  - trace_df['TreeHeight']\n",
    "fig, ax, hdi_est =  plot_origin_or_tmrca(trace_df, parameter='TMRCA', x_tick_freq='weekly', hdi_prob=0.95)\n",
    "display({key: value.strftime('%Y-%m-%d') for key, value in hdi_est.items()})"
   ]
  },
  {
   "cell_type": "markdown",
   "id": "daa3190b39f7fc63",
   "metadata": {},
   "source": [
    "# $R_T$"
   ]
  },
  {
   "cell_type": "code",
   "execution_count": null,
   "id": "296627d47de2fa52",
   "metadata": {},
   "outputs": [],
   "source": [
    "rt_fig, ax, rt_hdi = outputs_for_possible_skyline(trace_df, 'reproductiveNumber_BDSKY_Serial', axis_label='Reproductive Number ($R_t$)')\n",
    "display(rt_hdi)"
   ]
  }
 ],
 "metadata": {
  "BEAST outputs reported": {
   "parameters": [
    "origin_BDSKY_Serial",
    "TreeHeight"
   ],
   "parameters starting with": [
    "reproductiveNumber_BDSKY_Serial",
    "samplingProportion_BDSKY_Serial",
    "becomeUninfectiousRate_BDSKY_Serial"
   ]
  },
  "authors": [
   "Martin Grunnill"
  ],
  "kernelspec": {
   "display_name": "beast_pype",
   "language": "python",
   "name": "beast_pype"
  },
  "language_info": {
   "codemirror_mode": {
    "name": "ipython",
    "version": 3
   },
   "file_extension": ".py",
   "mimetype": "text/x-python",
   "name": "python",
   "nbconvert_exporter": "python",
   "pygments_lexer": "ipython3",
   "version": "3.10.15"
  }
 },
 "nbformat": 4,
 "nbformat_minor": 5
}
