{
 "cells": [
  {
   "cell_type": "markdown",
   "id": "6569e3baf80dc90d",
   "metadata": {
    "editable": true,
    "slideshow": {
     "slide_type": ""
    },
    "tags": []
   },
   "source": [
    "# Generating output figures\n",
    "\n",
    "**A note on Birth Death Skyline Models**\n",
    "The results in this notebook are from a phylodynamics pipeline using Birth Death Skyline Models. Reading material on Birth Death Skyline Models can be found at:\n",
    "* [Taming the BEAST Tutorial: Skylineplots](https://taming-the-beast.org/tutorials/Skyline-plots/) \n",
    "* [Stadler et al. 2012 PNAS](https://www.pnas.org/doi/full/10.1073/pnas.1207965110)\n"
   ]
  },
  {
   "cell_type": "code",
   "execution_count": null,
   "id": "4578f9bf9f58f977",
   "metadata": {
    "editable": true,
    "slideshow": {
     "slide_type": ""
    },
    "tags": [
     "parameters"
    ]
   },
   "outputs": [],
   "source": [
    "save_dir = 'all_runs/ex_data_for_Martin'"
   ]
  },
  {
   "cell_type": "code",
   "execution_count": null,
   "id": "4ce45d9d7f6aebe8",
   "metadata": {},
   "outputs": [],
   "source": [
    "from beast_pype import (read_xml_set_logs_for_plotting, plot_comparative_box_violine,\n",
    "                            plot_skyline, plot_comparative_origin, hdi_pivot)\n",
    "from beast_pype import date_to_decimal, decimal_to_date\n",
    "import pandas as pd\n",
    "import os\n",
    "from IPython.core.getipython import get_ipython"
   ]
  },
  {
   "cell_type": "code",
   "execution_count": null,
   "id": "fa1d88aa-bb21-4359-a315-d82d4e7ca3f3",
   "metadata": {
    "editable": true,
    "scrolled": true,
    "slideshow": {
     "slide_type": ""
    },
    "tags": []
   },
   "outputs": [],
   "source": [
    "# This cell retrieves all the log files for the samples you selected.\n",
    "sample_dirs= {item: f'{save_dir }/{item}' for item in os.listdir(save_dir) \n",
    "              if (os.path.isfile(f'{save_dir }/{item}/merged.log') or\n",
    "                  os.path.isfile(f'{save_dir }/{item}/merged_log.csv'))}\n",
    "trace_path_dict = {}\n",
    "for sample, directory in sample_dirs.items():\n",
    "    log_file = f'{directory}/merged.log'\n",
    "    csv_file = f'{directory}/merged_log.csv'\n",
    "    if os.path.isfile(log_file):\n",
    "        trace_path_dict[sample] = log_file\n",
    "    else:\n",
    "        trace_path_dict[sample] = csv_file\n",
    "youngest_tip_dates = {sample: pd.read_csv(f'{directory}/metadata.csv', parse_dates=['date'])['date'].max()\n",
    "                      for sample, directory in sample_dirs.items()}\n",
    "\n",
    "\n",
    "df, df_melted_for_seaborn = read_xml_set_logs_for_plotting(\n",
    "    file_path_dict=trace_path_dict,\n",
    "    convert_become_uninfectious_rate=True,\n",
    "    youngest_tips_dict=youngest_tip_dates)"
   ]
  },
  {
   "cell_type": "markdown",
   "id": "fe9ec79833844532",
   "metadata": {
    "editable": true,
    "slideshow": {
     "slide_type": ""
    },
    "tags": []
   },
   "source": [
    "## Infection Period \n",
    "\n",
    "BD Skyline models estimate the rate of becoming uninfectious (whose inverse if the average infection period). "
   ]
  },
  {
   "cell_type": "code",
   "execution_count": null,
   "id": "c0d10e55902993bd",
   "metadata": {},
   "outputs": [],
   "source": [
    "ax = plot_comparative_box_violine(df_melted_for_seaborn, 'Infection period (per day)')\n",
    "display(ax)"
   ]
  },
  {
   "cell_type": "code",
   "execution_count": null,
   "id": "539d819d-d67a-4424-bfa7-9ea70ff248eb",
   "metadata": {},
   "outputs": [],
   "source": [
    "infection_period_hdi_df = hdi_pivot(df, 'Infection period (per day)')\n",
    "display(infection_period_hdi_df)"
   ]
  },
  {
   "cell_type": "markdown",
   "id": "daa3190b39f7fc63",
   "metadata": {},
   "source": [
    "# $R_T$\n",
    "\n",
    "\n",
    "## True Skyline\n",
    "\n",
    "The effective reproductive number, Re, is estimated in serial intervals for each variant. Note that for computational speed, the resident variant less resolution is given prior to the arrival of the newly emerging lineages (if of interest this could be changed). \n",
    "\n",
    "**Note** Lower values are 0.05 Highest Posterior Density (HPD), higher values are 0.95 HPD."
   ]
  },
  {
   "cell_type": "code",
   "execution_count": null,
   "id": "2ecd5e58-4341-4e39-a0f9-bacf38da2908",
   "metadata": {},
   "outputs": [],
   "source": [
    "youngest_tip_year_decimals = {key: date_to_decimal(value) for key,value in youngest_tip_dates.items()}"
   ]
  },
  {
   "cell_type": "code",
   "execution_count": null,
   "id": "db857afe-826f-4498-8f37-6ec9663da477",
   "metadata": {
    "scrolled": true
   },
   "outputs": [],
   "source": [
    "fig, ax = plot_skyline(df,\n",
    "                           youngest_tip_year_decimals,\n",
    "                           parameter_start='reproductiveNumber',\n",
    "                           ylabel='$R_t$',\n",
    "                           grid_size=100,\n",
    "                           x_tick_freq='yearly',\n",
    "                           include_grid=True)\n"
   ]
  },
  {
   "cell_type": "markdown",
   "id": "627f99dd754e29e6",
   "metadata": {
    "editable": true,
    "slideshow": {
     "slide_type": ""
    },
    "tags": []
   },
   "source": [
    "# Origin\n",
    "\n",
    "The origin is the time at which the index case (the first Canadian case) became infected, which is slightly earlier than the time-to-the-most-recent-common-ancestor (tMRCA). This parameter is used to investigate the detection delay from emergence to first detection in Canada."
   ]
  },
  {
   "cell_type": "code",
   "execution_count": null,
   "id": "a10f0e438a3bfb96",
   "metadata": {},
   "outputs": [],
   "source": [
    "fig = plot_comparative_origin(df_melted_for_seaborn, tick_freq='quarterly', one_figure=True)\n"
   ]
  },
  {
   "cell_type": "code",
   "execution_count": null,
   "id": "209c24235a061f11",
   "metadata": {},
   "outputs": [],
   "source": [
    "fig = plot_comparative_origin(df_melted_for_seaborn)"
   ]
  },
  {
   "cell_type": "code",
   "execution_count": null,
   "id": "8eef1cc0-bbd0-4f87-9cce-5a523db89a9b",
   "metadata": {},
   "outputs": [],
   "source": [
    "orign_hdi_df = hdi_pivot(df, 'Origin')\n",
    "orign_hdi_df['Lower HDI Date'] =  orign_hdi_df['Lower HDI'].map(decimal_to_date).dt.strftime(\"%Y-%m-%dir\")\n",
    "orign_hdi_df['Median Date'] =  orign_hdi_df['Median'].map(decimal_to_date).dt.strftime(\"%Y-%m-%dir\")\n",
    "orign_hdi_df['Upper HDI Date'] =  orign_hdi_df['Upper HDI'].map(decimal_to_date).dt.strftime(\"%Y-%m-%dir\")\n",
    "orign_hdi_df"
   ]
  },
  {
   "cell_type": "code",
   "execution_count": null,
   "id": "f881e881-4dc2-43fc-beb8-a11fa130cee4",
   "metadata": {
    "editable": true,
    "slideshow": {
     "slide_type": ""
    },
    "tags": []
   },
   "outputs": [],
   "source": [
    "columns_not_to_plot = ['Strain_and_Sample_Size', 'Sample', 'origin_BDSKY_Serial', 'Origin',\n",
    "                       'Rate of Becoming Uninfectious (per day)','becomeUninfectiousRate_BDSKY_Serial',\n",
    "                       'Infection period (per day)']\n",
    "columns_not_to_plot += df.columns[df.columns.str.startswith('reproductiveNumber')].tolist()\n",
    "columns_not_to_plot += df.columns[df.columns.str.startswith('Unnamed')].tolist()\n",
    "\n",
    "columns_to_plot = [column for column in df.columns if column not in columns_not_to_plot]\n",
    "\n",
    "def create_new_cell(contents):\n",
    "    shell = get_ipython()\n",
    "    payload = dict(\n",
    "        source='set_next_input',\n",
    "        text=contents,\n",
    "        replace=False,\n",
    "    )\n",
    "    shell.payload_manager.write_payload(payload, single=False)\n",
    "\n",
    "def plot_next_parameter(columns_to_plot):\n",
    "    if len(columns_to_plot) > 0:\n",
    "        parameter = columns_to_plot[0]\n",
    "        content = f\"ax = plot_comparative_box_violin(df_melted_for_seaborn, '{parameter}')\\nhdi_df = hdi_pivot(df, '{parameter}')\\nplot_next_parameter(columns_to_plot)\\ndisplay(Markdown(f'# {parameter }'), ax, hdi_df)\"\n",
    "        create_new_cell(content)\n",
    "        del columns_to_plot[0]\n",
    "\n",
    "plot_next_parameter(columns_to_plot)"
   ]
  }
 ],
 "metadata": {
  "kernelspec": {
   "display_name": "beast_pype",
   "language": "python",
   "name": "beast_pype"
  },
  "language_info": {
   "codemirror_mode": {
    "name": "ipython",
    "version": 3
   },
   "file_extension": ".py",
   "mimetype": "text/x-python",
   "name": "python",
   "nbconvert_exporter": "python",
   "pygments_lexer": "ipython3",
   "version": "3.10.15"
  }
 },
 "nbformat": 4,
 "nbformat_minor": 5
}
