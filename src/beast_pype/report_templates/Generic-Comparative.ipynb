{
 "cells": [
  {
   "cell_type": "markdown",
   "id": "6569e3baf80dc90d",
   "metadata": {
    "editable": true,
    "slideshow": {
     "slide_type": ""
    },
    "tags": []
   },
   "source": [
    "# BEAST 2 Output Figures & Stats\n",
    "\n",
    "The results in this notebook are from a phylodynamics pipeline using any BEAST 2 models."
   ]
  },
  {
   "cell_type": "code",
   "id": "4578f9bf9f58f977",
   "metadata": {
    "editable": true,
    "slideshow": {
     "slide_type": ""
    },
    "tags": [
     "parameters"
    ],
    "ExecuteTime": {
     "end_time": "2025-07-11T19:49:33.649369Z",
     "start_time": "2025-07-11T19:49:33.643353Z"
    }
   },
   "source": [
    "save_dir = None"
   ],
   "outputs": [],
   "execution_count": 1
  },
  {
   "cell_type": "code",
   "execution_count": null,
   "id": "4ce45d9d7f6aebe8",
   "metadata": {},
   "outputs": [],
   "source": [
    "from beast_pype.outputs import read_xml_set_logs_for_plotting, plot_comparative_box_violin, hdi_pivot\n",
    "import pandas as pd\n",
    "import os"
   ]
  },
  {
   "cell_type": "code",
   "execution_count": null,
   "id": "fee7d5ec823499a8",
   "metadata": {},
   "outputs": [],
   "source": [
    "if save_dir is None:\n",
    "    save_dir = os.getcwd()"
   ]
  },
  {
   "cell_type": "markdown",
   "id": "c7a334ed7a5b4749",
   "metadata": {},
   "source": [
    "Date pipeiline was run:"
   ]
  },
  {
   "cell_type": "code",
   "execution_count": null,
   "id": "a8618730-6598-4eee-ad4c-7083f16f724e",
   "metadata": {},
   "outputs": [],
   "source": [
    "display(save_dir.split('/')[-1].split('_')[0])"
   ]
  },
  {
   "cell_type": "code",
   "execution_count": null,
   "id": "c8242da75e634697",
   "metadata": {},
   "outputs": [],
   "source": [
    "# This cell retrieves all the log files for the samples you selected.\n",
    "sample_dirs= {item: f'{save_dir }/{item}' for item in os.listdir(save_dir)\n",
    "              if (os.path.isfile(f'{save_dir }/{item}/merged.log') or\n",
    "                  os.path.isfile(f'{save_dir }/{item}/merged_log.csv'))}\n",
    "trace_path_dict = {}\n",
    "for sample, directory in sample_dirs.items():\n",
    "    log_file = f'{directory}/merged.log'\n",
    "    csv_file = f'{directory}/merged_log.csv'\n",
    "    if os.path.isfile(log_file):\n",
    "        trace_path_dict[sample] = log_file\n",
    "    else:\n",
    "        trace_path_dict[sample] = csv_file\n",
    "\n",
    "\n",
    "df, df_melted_for_seaborn = read_xml_set_logs_for_plotting(\n",
    "    file_path_dict=trace_path_dict,\n",
    "    convert_become_uninfectious_rate=False)"
   ]
  }
 ],
 "metadata": {
  "BEAST outputs reported": {
   "parameters": [],
   "parameters starting with": []
  },
  "authors": [
   "Martin Grunnill"
  ],
  "kernelspec": {
   "display_name": "beast_pype",
   "language": "python",
   "name": "beast_pype"
  },
  "language_info": {
   "codemirror_mode": {
    "name": "ipython",
    "version": 3
   },
   "file_extension": ".py",
   "mimetype": "text/x-python",
   "name": "python",
   "nbconvert_exporter": "python",
   "pygments_lexer": "ipython3",
   "version": "3.10.15"
  }
 },
 "nbformat": 4,
 "nbformat_minor": 5
}
