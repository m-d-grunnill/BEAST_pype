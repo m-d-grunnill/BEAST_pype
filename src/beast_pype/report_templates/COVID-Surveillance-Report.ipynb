{
 "cells": [
  {
   "cell_type": "markdown",
   "id": "6569e3baf80dc90d",
   "metadata": {
    "editable": true,
    "slideshow": {
     "slide_type": ""
    },
    "tags": []
   },
   "source": [
    "# Generating output figures\n",
    "\n",
    "**A note on Birth Death Skyline Models**\n",
    "The results in this notebook are from a phylodynamics pipeline using Birth Death Skyline Models. Reading material on Birth Death Skyline Models can be found at:\n",
    "* [Taming the BEAST Tutorial: Skylineplots](https://taming-the-beast.org/tutorials/Skyline-plots/) \n",
    "* [Stadler et al. 2012 PNAS](https://www.pnas.org/doi/full/10.1073/pnas.1207965110)\n",
    "\n",
    "Variants run are chosen from the internal Nowcasting resutls that estimate recent variant proportions of major (often grouped) lineages and estimate their relative growth coefficients (see RV Intel crunch). The variants growing the fastest where chosen for phylodynamic modelling, along with the main resident lineage that is being replaced. \n",
    "\n",
    "Bayesian BD skyline serial models were run on each variant separately to infer variant specific parameters (e.g. variant specific effective reproductive number over time, Re).   "
   ]
  },
  {
   "cell_type": "code",
   "execution_count": null,
   "id": "4578f9bf9f58f977",
   "metadata": {
    "ExecuteTime": {
     "end_time": "2025-06-24T20:34:53.455210Z",
     "start_time": "2025-06-24T20:34:53.448273Z"
    },
    "editable": true,
    "slideshow": {
     "slide_type": ""
    },
    "tags": [
     "parameters"
    ]
   },
   "outputs": [],
   "source": [
    "save_dir = None\n",
    "chosen_samples = 'all'\n",
    "collection_date_field = 'date'"
   ]
  },
  {
   "cell_type": "code",
   "execution_count": null,
   "id": "59c625d7-b733-4d23-ba35-550a51939ac7",
   "metadata": {
    "ExecuteTime": {
     "end_time": "2025-06-24T20:35:01.191626Z",
     "start_time": "2025-06-24T20:34:56.359073Z"
    },
    "editable": true,
    "slideshow": {
     "slide_type": ""
    },
    "tags": []
   },
   "outputs": [],
   "source": [
    "from beast_pype.outputs import (read_strain_logs_for_plotting, plot_comparative_box_violine, plot_skyline, plot_comparative_origin, hdi_pivot)\n",
    "from beast_pype.date_utilities import date_to_decimal\n",
    "import scipy\n",
    "import pandas as pd\n",
    "from datetime import datetime\n",
    "import json\n",
    "import warnings\n",
    "import os\n",
    "import matplotlib.pylab as plt  \n",
    "\n",
    "## Other setup things\n",
    "# stop annoying matplotlib warnings\n",
    "warnings.filterwarnings(\"ignore\", module=\"matplotlib\\*\")\n",
    "if save_dir is None:\n",
    "    save_dir = os.getcwd()\n",
    "outputs4cw_dir = f\"{save_dir}/outputs4CW\"\n",
    "if not os.path.exists(outputs4cw_dir):\n",
    "    os.makedirs(outputs4cw_dir)"
   ]
  },
  {
   "cell_type": "markdown",
   "id": "c7a334ed7a5b4749",
   "metadata": {},
   "source": [
    "### Date the pipeline that produced this report was launched:"
   ]
  },
  {
   "cell_type": "code",
   "execution_count": null,
   "id": "a8618730-6598-4eee-ad4c-7083f16f724e",
   "metadata": {
    "ExecuteTime": {
     "end_time": "2025-06-24T20:35:06.559232Z",
     "start_time": "2025-06-24T20:35:06.550992Z"
    }
   },
   "outputs": [],
   "source": [
    "display(save_dir.split('/')[-1].split('_')[0])"
   ]
  },
  {
   "cell_type": "markdown",
   "id": "76a4f0ed-b2d2-49ee-a533-802bc124ad60",
   "metadata": {},
   "source": [
    "The strains used and sample sizes in the analyses on data from the chooen date is displayed below.\n",
    "\n",
    "*Note* DR stands for Dominant Resident strain & VOI stands for Variant of Interest (a newly emerging strain, i.e. \"invader\")."
   ]
  },
  {
   "cell_type": "code",
   "execution_count": null,
   "id": "01ff5f0a-9a07-4c40-b396-8c05b051b869",
   "metadata": {
    "ExecuteTime": {
     "end_time": "2025-06-24T20:35:08.252210Z",
     "start_time": "2025-06-24T20:35:08.235564Z"
    }
   },
   "outputs": [],
   "source": [
    "with open(save_dir + \"/pipeline_run_info.json\", \"r\") as file:\n",
    "    data = file.read()\n",
    "file.close()\n",
    "pipeline_run_info = json.loads(data)\n",
    "\n",
    "if chosen_samples == 'all':\n",
    "    xml_sets = [path for path in os.listdir() if os.path.isdir(path) and path not in ['.ipynb_checkpoints', 'outputs4CW']]\n",
    "else:\n",
    "    xml_sets = chosen_samples"
   ]
  },
  {
   "cell_type": "code",
   "execution_count": null,
   "id": "7537d353-d973-44aa-88ca-ea4fc4fe2e34",
   "metadata": {
    "ExecuteTime": {
     "end_time": "2025-06-24T20:35:13.341062Z",
     "start_time": "2025-06-24T20:35:13.090458Z"
    }
   },
   "outputs": [],
   "source": [
    "records = []\n",
    "youngest_tip_dates = {}\n",
    "trace_path_dict = {}\n",
    "for xml_set in xml_sets:\n",
    "    log_file = f'{save_dir}/{xml_set}/merged.log'\n",
    "    csv_file = f'{save_dir}/{xml_set}/merged_log.csv'\n",
    "    if os.path.isfile(log_file):\n",
    "        trace_path_dict[xml_set] = log_file\n",
    "    else:\n",
    "        trace_path_dict[xml_set] = csv_file\n",
    "    dowmsampled_metadata_path = f'{save_dir}/{xml_set}/down_sampled_metadata.csv'\n",
    "    if os.path.exists(dowmsampled_metadata_path):\n",
    "        metadata = pd.read_csv(dowmsampled_metadata_path, parse_dates=['date'])\n",
    "        available_sample_size = len(pd.read_csv(f'{save_dir}/{xml_set}/metadata.csv'))\n",
    "    else:\n",
    "        metadata = pd.read_csv(f'{save_dir}/{xml_set}/metadata.csv', parse_dates=['date'])\n",
    "        available_sample_size = len(metadata)\n",
    "        \n",
    "    youngest_tip_dates[xml_set] = metadata[collection_date_field].max()\n",
    "    records.append(\n",
    "        {'Type of Strain': xml_set.split('_')[0],\n",
    "         'Strain': xml_set.split('_')[1], \n",
    "         'Sample Size': len(metadata),\n",
    "         'Available samples': available_sample_size})\n",
    "\n",
    "sample_info = pd.DataFrame.from_records(records)\n",
    "sample_info.to_csv(f\"{outputs4cw_dir}/sample_info.csv\", index=False)\n",
    "sample_info"
   ]
  },
  {
   "cell_type": "markdown",
   "id": "615c4464-72ac-4e08-bb9a-3d56e57e37c9",
   "metadata": {},
   "source": [
    "Note the sub varients indluded within strains in the table above:"
   ]
  },
  {
   "cell_type": "code",
   "execution_count": null,
   "id": "e25d8546d65a0dc4",
   "metadata": {
    "ExecuteTime": {
     "end_time": "2025-06-24T20:35:20.952051Z",
     "start_time": "2025-06-24T20:35:20.931970Z"
    }
   },
   "outputs": [],
   "source": [
    "strain_sub_varients = pipeline_run_info[\"strain sub-variants\"]\n",
    "strain_sub_varients = {strain: sub_varients for strain, sub_varients in strain_sub_varients.items() if strain in sample_info.Strain.unique()}\n",
    "with open(f\"{outputs4cw_dir}/strain_sub_varients.json\", 'w') as fp:\n",
    "    json.dump(strain_sub_varients, fp, sort_keys=True, indent=4)\n",
    "fp.close()\n",
    "display(strain_sub_varients)"
   ]
  },
  {
   "cell_type": "code",
   "execution_count": null,
   "id": "d95eedab-4176-48f8-b416-12907af9357e",
   "metadata": {
    "ExecuteTime": {
     "end_time": "2025-06-24T20:35:24.712802Z",
     "start_time": "2025-06-24T20:35:24.636851Z"
    }
   },
   "outputs": [],
   "source": [
    "# This cell retrieves all the log files for the samples you selected.       \n",
    "df, df_melted_for_seaborn = read_strain_logs_for_plotting(\n",
    "    file_path_dict=trace_path_dict,\n",
    "    convert_become_uninfectious_rate=True,\n",
    "    youngest_tips_dict=youngest_tip_dates)"
   ]
  },
  {
   "cell_type": "markdown",
   "id": "fe9ec79833844532",
   "metadata": {
    "tags": []
   },
   "source": [
    "## Infection Period \n",
    "\n",
    "BD Skyline models estimate the rate of becoming uninfectious (whose inverse if the average infection period). "
   ]
  },
  {
   "cell_type": "code",
   "execution_count": null,
   "id": "4f9426626e2aeef8",
   "metadata": {
    "ExecuteTime": {
     "end_time": "2025-06-24T20:35:27.539764Z",
     "start_time": "2025-06-24T20:35:27.528969Z"
    }
   },
   "outputs": [],
   "source": [
    "gamma_prior_params = {'a': 5.921111111111111, 'loc': 0, 'scale': 12.32876712328767}\n",
    "prior = scipy.stats.gamma(**gamma_prior_params)\n",
    "yearly_rate_prior_draw = prior.rvs(size=int(1e5))\n",
    "daily_rate_prior_draw = yearly_rate_prior_draw / 365.25\n",
    "inf_period_draw = 1/daily_rate_prior_draw"
   ]
  },
  {
   "cell_type": "code",
   "execution_count": null,
   "id": "c0d10e55902993bd",
   "metadata": {
    "ExecuteTime": {
     "end_time": "2025-06-24T20:35:28.945611Z",
     "start_time": "2025-06-24T20:35:27.977835Z"
    }
   },
   "outputs": [],
   "source": [
    "ax = plot_comparative_box_violine(df_melted_for_seaborn, 'Infection period (per day)', prior_draws=inf_period_draw)\n",
    "plt.savefig(f\"{outputs4cw_dir}/infection_period_box_violin_with_prior.png\")\n",
    "display(ax)"
   ]
  },
  {
   "cell_type": "code",
   "execution_count": null,
   "id": "133d7657d9c249d5",
   "metadata": {
    "ExecuteTime": {
     "end_time": "2025-06-24T20:35:29.425056Z",
     "start_time": "2025-06-24T20:35:28.964800Z"
    }
   },
   "outputs": [],
   "source": [
    "ax = plot_comparative_box_violine(df_melted_for_seaborn, 'Infection period (per day)')\n",
    "plt.savefig(f\"{outputs4cw_dir}/infection_period_box_violin.png\")\n",
    "display(ax)"
   ]
  },
  {
   "cell_type": "code",
   "execution_count": null,
   "id": "539d819d-d67a-4424-bfa7-9ea70ff248eb",
   "metadata": {
    "ExecuteTime": {
     "end_time": "2025-06-24T20:35:29.597108Z",
     "start_time": "2025-06-24T20:35:29.558864Z"
    }
   },
   "outputs": [],
   "source": [
    "infection_period_hdi_df = hdi_pivot(df, 'Infection period (per day)')\n",
    "infection_period_hdi_df.to_csv(f\"{outputs4cw_dir}/infection_period_hdi_df.csv\", index=False)\n",
    "display(infection_period_hdi_df)"
   ]
  },
  {
   "cell_type": "markdown",
   "id": "52727981ceff9999",
   "metadata": {},
   "source": [
    "## Clock Rate\n",
    "\n",
    "The evolutionary substitution rate (i.e. clock rate) is estimated. The prior given here is based on a strict clock estimate for SARS-CoV-2. Note clock rate's unit is 'number of nucleotide substitutions per site per year'."
   ]
  },
  {
   "cell_type": "code",
   "execution_count": null,
   "id": "5bd053d5a6b6fa7c",
   "metadata": {
    "ExecuteTime": {
     "end_time": "2025-06-24T20:35:38.672491Z",
     "start_time": "2025-06-24T20:35:37.685260Z"
    }
   },
   "outputs": [],
   "source": [
    "gamma_prior_params = {'a': 1.7777777777777781, 'scale': 0.00022499999999999994}\n",
    "prior = scipy.stats.gamma(**gamma_prior_params)\n",
    "subs_rate_prior_draw = prior.rvs(size=int(1e5)) \n",
    "ax = plot_comparative_box_violine(df_melted_for_seaborn, 'clockRate', prior_draws=subs_rate_prior_draw)\n",
    "plt.savefig(f\"{outputs4cw_dir}/clockRate_box_violin_with_prior.png\")\n"
   ]
  },
  {
   "cell_type": "code",
   "execution_count": null,
   "id": "fac449593c6850e0",
   "metadata": {
    "ExecuteTime": {
     "end_time": "2025-06-24T20:35:39.052369Z",
     "start_time": "2025-06-24T20:35:38.715249Z"
    }
   },
   "outputs": [],
   "source": [
    "ax = plot_comparative_box_violine(df_melted_for_seaborn, 'clockRate')\n",
    "plt.savefig(f\"{outputs4cw_dir}/clockRate_box_violin.png\")\n"
   ]
  },
  {
   "cell_type": "code",
   "execution_count": null,
   "id": "a6997399-696d-483b-9ef6-ac716e078894",
   "metadata": {
    "ExecuteTime": {
     "end_time": "2025-06-24T20:35:39.401273Z",
     "start_time": "2025-06-24T20:35:39.379778Z"
    }
   },
   "outputs": [],
   "source": [
    "clock_rate_hdi_df = hdi_pivot(df, 'clockRate')\n",
    "clock_rate_hdi_df.to_csv(f\"{outputs4cw_dir}/clock_rate_hdi_df.csv\", index=False)\n",
    "display(clock_rate_hdi_df)"
   ]
  },
  {
   "cell_type": "markdown",
   "id": "e210d7239cc158c6",
   "metadata": {
    "tags": []
   },
   "source": [
    "# Sampling Proportion"
   ]
  },
  {
   "cell_type": "code",
   "execution_count": null,
   "id": "128ed603a966dbda",
   "metadata": {
    "ExecuteTime": {
     "end_time": "2025-06-24T20:35:48.663263Z",
     "start_time": "2025-06-24T20:35:47.799136Z"
    }
   },
   "outputs": [],
   "source": [
    "beta_prior_params = {'a': 1, 'b': 999}\n",
    "prior = scipy.stats.beta(**beta_prior_params)\n",
    "sampling_prior_draw= prior.rvs(size=int(1e5)) \n",
    "ax = plot_comparative_box_violine(df_melted_for_seaborn, 'samplingProportion_BDSKY_Serial', prior_draws=sampling_prior_draw)\n",
    "plt.savefig(f\"{outputs4cw_dir}/sampling_proportion_box_violin_with_prior.png\")\n"
   ]
  },
  {
   "cell_type": "code",
   "execution_count": null,
   "id": "e989319e1905a63b",
   "metadata": {
    "ExecuteTime": {
     "end_time": "2025-06-24T20:35:49.711215Z",
     "start_time": "2025-06-24T20:35:49.371307Z"
    }
   },
   "outputs": [],
   "source": [
    "ax = plot_comparative_box_violine(df_melted_for_seaborn, 'samplingProportion_BDSKY_Serial')\n",
    "plt.savefig(f\"{outputs4cw_dir}/sampling_proportion_box_violin.png\")\n"
   ]
  },
  {
   "cell_type": "code",
   "execution_count": null,
   "id": "93351702-e31c-4425-8eba-0e517cc3685a",
   "metadata": {
    "ExecuteTime": {
     "end_time": "2025-06-24T20:35:55.040260Z",
     "start_time": "2025-06-24T20:35:55.011486Z"
    }
   },
   "outputs": [],
   "source": [
    "sampling_proportion_hdi_df =hdi_pivot(df, 'samplingProportion_BDSKY_Serial')\n",
    "sampling_proportion_hdi_df.to_csv(f\"{outputs4cw_dir}/sampling_proportion_hdi_df.csv\", index=False)\n",
    "display(sampling_proportion_hdi_df)"
   ]
  },
  {
   "cell_type": "markdown",
   "id": "daa3190b39f7fc63",
   "metadata": {},
   "source": [
    "# $R_T$\n",
    "\n",
    "\n",
    "## True Skyline\n",
    "\n",
    "The effective reproductive number, Re, is estimated in serial intervals for each variant. Note that for computational speed, the resident variant less resolution is given prior to the arrival of the newly emerging lineages (if of interest this could be changed). \n",
    "\n",
    "**Note** Lower values are 0.05 Highest Posterior Density (HPD), higher values are 0.95 HPD."
   ]
  },
  {
   "cell_type": "code",
   "execution_count": null,
   "id": "db857afe-826f-4498-8f37-6ec9663da477",
   "metadata": {
    "ExecuteTime": {
     "end_time": "2025-06-24T20:36:06.970025Z",
     "start_time": "2025-06-24T20:36:06.965866Z"
    }
   },
   "outputs": [],
   "source": [
    "type_change_date_dicts = {sample: [datetime.strptime(date_str, '%Y-%m-%d') for date_str in date_list]\n",
    "                          for sample, date_list in pipeline_run_info['Re change dates'].items()}\n",
    "sample_change_date_dicts = {xml_set: type_change_date_dicts[xml_set.split('_')[0]] for xml_set in xml_sets}\n",
    "youngest_tip_year_decimals = {key: date_to_decimal(value) for key,value in youngest_tip_dates.items()}"
   ]
  },
  {
   "cell_type": "code",
   "execution_count": null,
   "id": "817b462754ce8e3b",
   "metadata": {
    "ExecuteTime": {
     "end_time": "2025-06-24T20:45:09.870877Z",
     "start_time": "2025-06-24T20:45:09.862629Z"
    }
   },
   "outputs": [],
   "source": [
    "{key: len(value) for key, value in sample_change_date_dicts.items()}"
   ]
  },
  {
   "cell_type": "code",
   "execution_count": null,
   "id": "9bc082f6-aee8-49f4-ad8d-e427ccbc981b",
   "metadata": {
    "ExecuteTime": {
     "start_time": "2025-06-24T20:47:57.874535Z"
    },
    "jupyter": {
     "is_executing": true
    }
   },
   "outputs": [],
   "source": [
    "fig, axs = plot_skyline(df,\n",
    "                        parameter_start='reproductiveNumber',\n",
    "                        ylabel='$R_t$',\n",
    "                        include_grid=True,\n",
    "                        partition_dates=sample_change_date_dicts,\n",
    "                        youngest_tip=youngest_tip_year_decimals)\n",
    "plt.savefig(f\"{outputs4cw_dir}/rt_true_skyline_fig.png\")\n"
   ]
  },
  {
   "cell_type": "markdown",
   "id": "ba8e2523fa9d3e0c",
   "metadata": {},
   "source": [
    "## Mid points spline smoothed"
   ]
  },
  {
   "cell_type": "code",
   "execution_count": null,
   "id": "b502a93b-3ffb-4b0f-bf03-2c1af413b891",
   "metadata": {
    "papermill": {
     "duration": 0.639087,
     "end_time": "2025-06-25T13:32:52.946144",
     "exception": true,
     "start_time": "2025-06-25T13:32:52.307057",
     "status": "failed"
    },
    "tags": []
   },
   "outputs": [],
   "source": [
    "fig, axs = plot_skyline(df,\n",
    "                        parameter_start='reproductiveNumber',\n",
    "                        ylabel='$R_t$',\n",
    "                        include_grid=True,\n",
    "                        partition_dates=sample_change_date_dicts,\n",
    "                        youngest_tip=youngest_tip_year_decimals,\n",
    "                        style='smooth spline')\n",
    "plt.savefig(f\"{outputs4cw_dir}/rt_smoothed_fig.png\")\n"
   ]
  },
  {
   "cell_type": "markdown",
   "id": "6f83ba7e-be29-4f0a-b5fa-5f774e6182d0",
   "metadata": {
    "papermill": {
     "duration": null,
     "end_time": null,
     "exception": null,
     "start_time": null,
     "status": "pending"
    },
    "tags": []
   },
   "source": [
    "## Mid points spline smoothed with points"
   ]
  },
  {
   "cell_type": "code",
   "execution_count": null,
   "id": "e88703b4-1056-43c5-92a1-b26eb132d553",
   "metadata": {
    "papermill": {
     "duration": null,
     "end_time": null,
     "exception": null,
     "start_time": null,
     "status": "pending"
    },
    "tags": []
   },
   "outputs": [],
   "source": [
    "fig, axs = plot_skyline(df,\n",
    "                        parameter_start='reproductiveNumber',\n",
    "                        ylabel='$R_t$',\n",
    "                        include_grid=True,\n",
    "                        partition_dates=sample_change_date_dicts,\n",
    "                        youngest_tip=youngest_tip_year_decimals,\n",
    "                        style='smooth spline with mid-points')\n",
    "plt.savefig(f\"{outputs4cw_dir}/rt_smoothed_with_points_fig.png\")\n"
   ]
  },
  {
   "cell_type": "markdown",
   "id": "238e07e8-aceb-4a4e-96b2-186050e3d7df",
   "metadata": {
    "papermill": {
     "duration": null,
     "end_time": null,
     "exception": null,
     "start_time": null,
     "status": "pending"
    },
    "tags": []
   },
   "source": [
    "## Rt results in table form"
   ]
  },
  {
   "cell_type": "code",
   "execution_count": null,
   "id": "ce9e1676-cd8d-4c27-9041-b62c71b6b631",
   "metadata": {
    "papermill": {
     "duration": null,
     "end_time": null,
     "exception": null,
     "start_time": null,
     "status": "pending"
    },
    "tags": []
   },
   "outputs": [],
   "source": [
    "from beast_pype.outputs import  _set_dates_skyline_plotting_df\n",
    "from beast_pype.date_utilities import decimal_to_date\n",
    "parameter_start='reproductiveNumber'\n",
    "style='skyline'\n",
    "r_t_plot_dfs_dict = {}\n",
    "for sample in df['xml_set'].unique(): \n",
    "    temp_df= _set_dates_skyline_plotting_df(df[df['xml_set'] == sample],\n",
    "                                            parameter_start=parameter_start,\n",
    "                                            style=style,\n",
    "                                            youngest_tip=youngest_tip_dates[sample],\n",
    "                                            dates_of_change=sample_change_date_dicts[sample])\n",
    "    \n",
    "    temp_df['xml_set'] = sample\n",
    "    start_df = temp_df[temp_df.index % 2 == 0]\n",
    "    end_df = temp_df[temp_df.index % 2 != 0]\n",
    "    start_df['Start of Period'] = start_df.year_decimal.map(decimal_to_date).map(lambda x: x.strftime('%Y-%m-%d'))\n",
    "    start_df['End of Period'] = end_df.year_decimal.map(decimal_to_date).map(lambda x: x.strftime('%Y-%m-%d')).to_list()\n",
    "    r_t_plot_dfs_dict[sample] = start_df\n",
    "\n",
    "r_t_plot_df = pd.concat(r_t_plot_dfs_dict.values())\n",
    "r_t_plot_df = r_t_plot_df[['xml_set', 'Start of Period', 'End of Period', 'lower', 'median', 'upper']]\n",
    "r_t_plot_df = r_t_plot_df.set_index('xml_set')\n",
    "r_t_plot_df.index = r_t_plot_df.index.str.split('_', expand=True)\n",
    "r_t_plot_df.reset_index(inplace=True)\n",
    "r_t_plot_df.columns = ['Type of Strain', 'Strain', 'Start of Period', 'End of Period', 'lower', 'median', 'upper']\n",
    "r_t_plot_df.to_csv(f\"{outputs4cw_dir}/rt_df.csv\")\n",
    "display(r_t_plot_df)"
   ]
  },
  {
   "cell_type": "markdown",
   "id": "a755b781-469d-472a-822a-c253bde42656",
   "metadata": {
    "papermill": {
     "duration": null,
     "end_time": null,
     "exception": null,
     "start_time": null,
     "status": "pending"
    },
    "tags": []
   },
   "source": [
    "## Ratios of Rt in last time period\n",
    "\n",
    "\n",
    "### Lower HPD (5%)\n",
    "Rows are denominators and columns are numerators."
   ]
  },
  {
   "cell_type": "code",
   "execution_count": null,
   "id": "ef8acc3f-e5d3-4b6e-b216-ac45e32433db",
   "metadata": {
    "papermill": {
     "duration": null,
     "end_time": null,
     "exception": null,
     "start_time": null,
     "status": "pending"
    },
    "tags": []
   },
   "outputs": [],
   "source": [
    "def _last_period_rt_ratio(rt_type, r_t_plot_dfs_dict):\n",
    "    ratio_of_rts = []\n",
    "    for xml_set in xml_sets:\n",
    "        denominator = r_t_plot_dfs_dict[xml_set][rt_type].iloc[-1]\n",
    "        ratio_of_rts.append({column:r_t_plot_dfs_dict[column][rt_type].iloc[-1]/denominator for column in xml_sets})\n",
    "\n",
    "    ratio_of_rts = pd.DataFrame.from_records(ratio_of_rts)\n",
    "    ratio_of_rts.index = xml_sets\n",
    "    return ratio_of_rts\n",
    "\n",
    "last_period_rt_ratio_lower_df = _last_period_rt_ratio('lower', r_t_plot_dfs_dict)\n",
    "last_period_rt_ratio_lower_df.to_csv(f\"{outputs4cw_dir}/last_period_rt_lower_df.csv\", index=False)   \n",
    "display(last_period_rt_ratio_lower_df)"
   ]
  },
  {
   "cell_type": "markdown",
   "id": "fc77a1a2-3cfe-4b73-96ff-374718148ba5",
   "metadata": {
    "papermill": {
     "duration": null,
     "end_time": null,
     "exception": null,
     "start_time": null,
     "status": "pending"
    },
    "tags": []
   },
   "source": [
    "### Median\n",
    "Rows are denominators and columns are numerators."
   ]
  },
  {
   "cell_type": "code",
   "execution_count": null,
   "id": "7782a716-6f42-473f-b230-1c870f62f553",
   "metadata": {
    "papermill": {
     "duration": null,
     "end_time": null,
     "exception": null,
     "start_time": null,
     "status": "pending"
    },
    "tags": []
   },
   "outputs": [],
   "source": [
    "last_period_rt_ratio_median_df = _last_period_rt_ratio('median', r_t_plot_dfs_dict)\n",
    "last_period_rt_ratio_median_df.to_csv(f\"{outputs4cw_dir}/last_period_rt_ratio_median_df.csv\", index=False)\n",
    "display(last_period_rt_ratio_median_df)"
   ]
  },
  {
   "cell_type": "markdown",
   "id": "22cdf52b-5d43-448d-ae16-b693064d46af",
   "metadata": {
    "papermill": {
     "duration": null,
     "end_time": null,
     "exception": null,
     "start_time": null,
     "status": "pending"
    },
    "tags": []
   },
   "source": [
    "### Upper HPD (95%)\n",
    "Rows are denominators and columns are numerators."
   ]
  },
  {
   "cell_type": "code",
   "execution_count": null,
   "id": "dc4f90e6-2aed-4525-8971-d5d4d3cdceb2",
   "metadata": {
    "papermill": {
     "duration": null,
     "end_time": null,
     "exception": null,
     "start_time": null,
     "status": "pending"
    },
    "tags": []
   },
   "outputs": [],
   "source": [
    "last_period_rt_ratio_upper_df = _last_period_rt_ratio('upper', r_t_plot_dfs_dict)\n",
    "last_period_rt_ratio_upper_df.to_csv(f\"{outputs4cw_dir}/last_period_rt_ratio_upper_df.csv\", index=False)\n",
    "display(last_period_rt_ratio_upper_df)"
   ]
  },
  {
   "cell_type": "markdown",
   "id": "a1740a3c-d304-4ac7-a8c6-d44e455a2ed6",
   "metadata": {
    "papermill": {
     "duration": null,
     "end_time": null,
     "exception": null,
     "start_time": null,
     "status": "pending"
    },
    "tags": []
   },
   "source": [
    "# Origin\n",
    "\n",
    "The origin is the time at which the index case (the first Canadian case) became infected, which is slightly earlier than the time-to-the-most-recent-common-ancestor (tMRCA). This parameter is used to investigate the detection delay from emergence to first detection in Canada."
   ]
  },
  {
   "cell_type": "code",
   "execution_count": null,
   "id": "635b253e-54ce-4087-b914-af685f187df2",
   "metadata": {
    "papermill": {
     "duration": null,
     "end_time": null,
     "exception": null,
     "start_time": null,
     "status": "pending"
    },
    "tags": []
   },
   "outputs": [],
   "source": [
    "fig = plot_comparative_origin(df_melted_for_seaborn, one_figure=True)\n",
    "plt.savefig(f\"{outputs4cw_dir}/orign_overlayed_fig.png\")\n"
   ]
  },
  {
   "cell_type": "code",
   "execution_count": null,
   "id": "3c2793e0-630d-4b48-be14-10b09295a543",
   "metadata": {
    "papermill": {
     "duration": null,
     "end_time": null,
     "exception": null,
     "start_time": null,
     "status": "pending"
    },
    "tags": []
   },
   "outputs": [],
   "source": [
    "fig = plot_comparative_origin(df_melted_for_seaborn)\n",
    "plt.savefig(f\"{outputs4cw_dir}/orign_stacked_fig.png\")"
   ]
  },
  {
   "cell_type": "code",
   "execution_count": null,
   "id": "ba1d6633-bcde-439c-aecc-f9b6627c8557",
   "metadata": {
    "papermill": {
     "duration": null,
     "end_time": null,
     "exception": null,
     "start_time": null,
     "status": "pending"
    },
    "tags": []
   },
   "outputs": [],
   "source": [
    "orign_hdi_df = hdi_pivot(df, 'Origin')\n",
    "orign_hdi_df.to_csv(f\"{outputs4cw_dir}/orign_hdi_df.csv\", index=False)\n",
    "orign_hdi_df.set_index('xml_set',inplace=True)\n",
    "orign_hdi_df = orign_hdi_df.map(decimal_to_date)\n",
    "for column in orign_hdi_df.columns:\n",
    "    orign_hdi_df[column] = orign_hdi_df[column].dt.strftime('%Y-%m-%d')\n",
    "display(orign_hdi_df)"
   ]
  }
 ],
 "metadata": {
  "kernelspec": {
   "display_name": "beast_pype",
   "language": "python",
   "name": "beast_pype"
  },
  "language_info": {
   "codemirror_mode": {
    "name": "ipython",
    "version": 3
   },
   "file_extension": ".py",
   "mimetype": "text/x-python",
   "name": "python",
   "nbconvert_exporter": "python",
   "pygments_lexer": "ipython3",
   "version": "3.10.15"
  }
 },
 "nbformat": 4,
 "nbformat_minor": 5
}
