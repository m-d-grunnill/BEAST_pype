{
 "cells": [
  {
   "cell_type": "markdown",
   "id": "6569e3baf80dc90d",
   "metadata": {
    "editable": true,
    "slideshow": {
     "slide_type": ""
    },
    "tags": []
   },
   "source": [
    "# BEAST 2 Output Figures & Stats\n",
    "\n",
    "The results in this notebook are from a phylodynamics pipeline using any BEAST 2 models."
   ]
  },
  {
   "cell_type": "code",
   "execution_count": null,
   "id": "4578f9bf9f58f977",
   "metadata": {
    "editable": true,
    "slideshow": {
     "slide_type": ""
    },
    "tags": [
     "parameters"
    ]
   },
   "outputs": [],
   "source": [
    "save_dir = None"
   ]
  },
  {
   "cell_type": "code",
   "execution_count": null,
   "id": "4ce45d9d7f6aebe8",
   "metadata": {},
   "outputs": [],
   "source": [
    "from beast_pype.outputs import (read_log_file, plot_skyline, plot_hist_kde, plot_origin_or_tmrca, hdi_columns_starting_with)\n",
    "import os"
   ]
  },
  {
   "cell_type": "code",
   "execution_count": null,
   "id": "fee7d5ec823499a8",
   "metadata": {},
   "outputs": [],
   "source": [
    "if save_dir is None:\n",
    "    save_dir = os.getcwd()"
   ]
  },
  {
   "cell_type": "markdown",
   "id": "c7a334ed7a5b4749",
   "metadata": {},
   "source": [
    "Date pipeiline was run:"
   ]
  },
  {
   "cell_type": "code",
   "execution_count": null,
   "id": "a8618730-6598-4eee-ad4c-7083f16f724e",
   "metadata": {},
   "outputs": [],
   "source": [
    "display(save_dir.split('/')[-1].split('_')[0])"
   ]
  },
  {
   "cell_type": "code",
   "execution_count": null,
   "id": "c8242da75e634697",
   "metadata": {},
   "outputs": [],
   "source": [
    "#Load Trace:\n",
    "log_file = f'{save_dir}/merged.log'\n",
    "csv_file = f'{save_dir}/merged_log.csv'\n",
    "if os.path.isfile(log_file):\n",
    "    trace_file = log_file\n",
    "else:\n",
    "    trace_file = csv_file\n",
    "trace_df = read_log_file(trace_file)"
   ]
  }
 ],
 "metadata": {
  "BEAST outputs reported": {
   "parameters": [],
   "parameters starting with": []
  },
  "authors": [
   "Martin Grunnill"
  ],
  "kernelspec": {
   "display_name": "beast_pype",
   "language": "python",
   "name": "beast_pype"
  },
  "language_info": {
   "codemirror_mode": {
    "name": "ipython",
    "version": 3
   },
   "file_extension": ".py",
   "mimetype": "text/x-python",
   "name": "python",
   "nbconvert_exporter": "python",
   "pygments_lexer": "ipython3",
   "version": "3.10.15"
  }
 },
 "nbformat": 4,
 "nbformat_minor": 5
}
