{
 "cells": [
  {
   "cell_type": "markdown",
   "id": "6569e3baf80dc90d",
   "metadata": {
    "editable": true,
    "slideshow": {
     "slide_type": ""
    },
    "tags": []
   },
   "source": [
    "# BDSky Serial's Output Figures & Stats\n",
    "\n",
    "**A note on Birth Death Skyline Models**\n",
    "The results in this notebook are from a phylodynamics pipeline using Birth Death Skyline Models. Reading material on Birth Death Skyline Models can be found at:\n",
    "* [Taming the BEAST Tutorial: Skylineplots](https://taming-the-beast.org/tutorials/Skyline-plots/) \n",
    "* [Stadler et al. 2012 PNAS](https://www.pnas.org/doi/full/10.1073/pnas.1207965110)\n"
   ]
  },
  {
   "cell_type": "code",
   "execution_count": null,
   "id": "4578f9bf9f58f977",
   "metadata": {
    "editable": true,
    "slideshow": {
     "slide_type": ""
    },
    "tags": [
     "parameters"
    ]
   },
   "outputs": [],
   "source": [
    "save_dir = None\n",
    "metadata_path = '../../../example_data/COVID-19_BA.2.86/metadata.tsv'"
   ]
  },
  {
   "cell_type": "code",
   "execution_count": null,
   "id": "4ce45d9d7f6aebe8",
   "metadata": {},
   "outputs": [],
   "source": [
    "from beast_pype.outputs import (read_xml_set_logs_for_plotting, plot_comparative_box_violin,\n",
    "                            plot_skyline, plot_comparative_origin_or_tmrca, hdi_pivot)\n",
    "from beast_pype.date_utilities import date_to_decimal, decimal_to_date\n",
    "import pandas as pd\n",
    "import os"
   ]
  },
  {
   "cell_type": "code",
   "execution_count": null,
   "id": "fee7d5ec823499a8",
   "metadata": {},
   "outputs": [],
   "source": [
    "if save_dir is None:\n",
    "    save_dir = os.getcwd()"
   ]
  },
  {
   "metadata": {},
   "cell_type": "code",
   "outputs": [],
   "execution_count": null,
   "source": [
    "# This cell retrieves all the log files for the samples you selected.\n",
    "sample_dirs= {item: f'{save_dir }/{item}' for item in os.listdir(save_dir)\n",
    "              if (os.path.isfile(f'{save_dir }/{item}/merged.log') or\n",
    "                  os.path.isfile(f'{save_dir }/{item}/merged_log.csv'))}\n",
    "trace_path_dict = {}\n",
    "for sample, directory in sample_dirs.items():\n",
    "    log_file = f'{directory}/merged.log'\n",
    "    csv_file = f'{directory}/merged_log.csv'\n",
    "    if os.path.isfile(log_file):\n",
    "        trace_path_dict[sample] = log_file\n",
    "    else:\n",
    "        trace_path_dict[sample] = csv_file\n",
    "youngest_tip_dates = {sample: pd.read_csv(f'{directory}/metadata.csv', parse_dates=['date'])['date'].max()\n",
    "                      for sample, directory in sample_dirs.items()}\n",
    "\n",
    "\n",
    "df, df_melted_for_seaborn = read_xml_set_logs_for_plotting(\n",
    "    file_path_dict=trace_path_dict,\n",
    "    convert_become_uninfectious_rate=True,\n",
    "    youngest_tips_dict=youngest_tip_dates)"
   ],
   "id": "9ae912eb92779727"
  },
  {
   "cell_type": "markdown",
   "id": "fe9ec79833844532",
   "metadata": {
    "tags": []
   },
   "source": [
    "## Infection Period \n",
    "\n",
    "BD Skyline models estimate the rate of becoming uninfectious (whose inverse if the average infection period). "
   ]
  },
  {
   "cell_type": "code",
   "execution_count": null,
   "id": "4f9426626e2aeef8",
   "metadata": {},
   "outputs": [],
   "source": [
    "ax = plot_comparative_box_violin(df_melted_for_seaborn, 'Infection period (per day)')\n",
    "infection_period_hdi_df = hdi_pivot(df, 'Infection period (per day)')\n",
    "display(infection_period_hdi_df )"
   ]
  },
  {
   "metadata": {},
   "cell_type": "markdown",
   "source": "# Sampling Proportion",
   "id": "c328f091fc5c8184"
  },
  {
   "metadata": {},
   "cell_type": "code",
   "outputs": [],
   "execution_count": null,
   "source": [
    "ax = plot_comparative_box_violin(df_melted_for_seaborn, 'samplingProportion_BDSKY_Serial')\n",
    "sampling_proportion_hdi_df =hdi_pivot(df, 'samplingProportion_BDSKY_Serial')\n",
    "display(sampling_proportion_hdi_df)"
   ],
   "id": "68c7234ff97e435e"
  },
  {
   "metadata": {},
   "cell_type": "markdown",
   "source": [
    "# $R_T$\n",
    "\n",
    "\n",
    "## True Skyline\n",
    "\n",
    "The effective reproductive number, Re, is estimated in serial intervals for each variant. Note that for computational speed, the resident variant less resolution is given prior to the arrival of the newly emerging lineages (if of interest this could be changed).\n",
    "\n",
    "**Note** Lower values are 0.05 Highest Posterior Density (HPD), higher values are 0.95 HPD."
   ],
   "id": "17b73935b1110c8"
  },
  {
   "metadata": {},
   "cell_type": "code",
   "outputs": [],
   "execution_count": null,
   "source": "youngest_tip_year_decimals = {key: date_to_decimal(value) for key,value in youngest_tip_dates.items()}",
   "id": "ac7cc75b0653fb9"
  },
  {
   "metadata": {
    "scrolled": true
   },
   "cell_type": "code",
   "outputs": [],
   "execution_count": null,
   "source": [
    "fig, ax = plot_skyline(df,\n",
    "                           youngest_tip_year_decimals,\n",
    "                           parameter_start='reproductiveNumber',\n",
    "                           ylabel='$R_t$',\n",
    "                           grid_size=100,\n",
    "                           x_tick_freq='yearly',\n",
    "                           include_grid=True)\n"
   ],
   "id": "e18e4bf096b8da58"
  },
  {
   "metadata": {},
   "cell_type": "markdown",
   "source": [
    "# Origin\n",
    "\n",
    "The origin is the time at which the index case (the first Canadian case) became infected, which is slightly earlier than the time-to-the-most-recent-common-ancestor (tMRCA). This parameter is used to investigate the detection delay from emergence to first detection in Canada."
   ],
   "id": "c1d3b2631e37bd9e"
  },
  {
   "metadata": {},
   "cell_type": "code",
   "outputs": [],
   "execution_count": null,
   "source": "fig = plot_comparative_origin_or_tmrca(df_melted_for_seaborn, 'Origin', tick_freq='quarterly', one_figure=True)",
   "id": "a41aefb9b59b7525"
  },
  {
   "metadata": {},
   "cell_type": "code",
   "outputs": [],
   "execution_count": null,
   "source": "fig = plot_comparative_origin_or_tmrca(df_melted_for_seaborn, 'Origin')",
   "id": "31f2afa4bf5f523b"
  },
  {
   "metadata": {},
   "cell_type": "code",
   "outputs": [],
   "execution_count": null,
   "source": [
    "orign_hdi_df = hdi_pivot(df, 'Origin')\n",
    "orign_hdi_df['Lower HDI Date'] =  orign_hdi_df['Lower HDI'].map(decimal_to_date).dt.strftime(\"%Y-%m-%dir\")\n",
    "orign_hdi_df['Median Date'] =  orign_hdi_df['Median'].map(decimal_to_date).dt.strftime(\"%Y-%m-%dir\")\n",
    "orign_hdi_df['Upper HDI Date'] =  orign_hdi_df['Upper HDI'].map(decimal_to_date).dt.strftime(\"%Y-%m-%dir\")\n",
    "orign_hdi_df"
   ],
   "id": "c8a7924faa29a378"
  },
  {
   "cell_type": "markdown",
   "id": "8c016a8eb099e61",
   "metadata": {},
   "source": [
    "# TMRCA"
   ]
  },
  {
   "metadata": {},
   "cell_type": "code",
   "outputs": [],
   "execution_count": null,
   "source": "fig = plot_comparative_origin_or_tmrca(df_melted_for_seaborn, 'TMRCA', tick_freq='quarterly', one_figure=True)",
   "id": "c11668b32907ba8f"
  },
  {
   "metadata": {},
   "cell_type": "code",
   "outputs": [],
   "execution_count": null,
   "source": "fig = plot_comparative_origin_or_tmrca(df_melted_for_seaborn, 'TMRCA')",
   "id": "14e13edaaba3bef3"
  },
  {
   "metadata": {},
   "cell_type": "code",
   "outputs": [],
   "execution_count": null,
   "source": [
    "orign_hdi_df = hdi_pivot(df, 'Origin')\n",
    "orign_hdi_df['Lower HDI Date'] =  orign_hdi_df['Lower HDI'].map(decimal_to_date).dt.strftime(\"%Y-%m-%dir\")\n",
    "orign_hdi_df['Median Date'] =  orign_hdi_df['Median'].map(decimal_to_date).dt.strftime(\"%Y-%m-%dir\")\n",
    "orign_hdi_df['Upper HDI Date'] =  orign_hdi_df['Upper HDI'].map(decimal_to_date).dt.strftime(\"%Y-%m-%dir\")\n",
    "orign_hdi_df"
   ],
   "id": "708bee870feb613b"
  }
 ],
 "metadata": {
  "BEAST outputs reported": {
   "parameters": [
    "origin_BDSKY_Serial",
    "TreeHeight"
   ],
   "parameters starting with": [
    "reproductiveNumber_BDSKY_Serial",
    "samplingProportion_BDSKY_Serial",
    "becomeUninfectiousRate_BDSKY_Serial"
   ]
  },
  "authors": [
   "Martin Grunnill"
  ],
  "kernelspec": {
   "display_name": "beast_pype",
   "language": "python",
   "name": "beast_pype"
  },
  "language_info": {
   "codemirror_mode": {
    "name": "ipython",
    "version": 3
   },
   "file_extension": ".py",
   "mimetype": "text/x-python",
   "name": "python",
   "nbconvert_exporter": "python",
   "pygments_lexer": "ipython3",
   "version": "3.10.15"
  }
 },
 "nbformat": 4,
 "nbformat_minor": 5
}
