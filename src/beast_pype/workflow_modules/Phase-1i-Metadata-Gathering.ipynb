{
 "cells": [
  {
   "cell_type": "markdown",
   "id": "d6f324b1-a8af-4f9b-a54e-1a0a39cbd051",
   "metadata": {
    "editable": true,
    "papermill": {
     "duration": 0.011356,
     "end_time": "2025-02-03T21:34:24.539199",
     "exception": false,
     "start_time": "2025-02-03T21:34:24.527843",
     "status": "completed"
    },
    "slideshow": {
     "slide_type": ""
    },
    "tags": []
   },
   "source": [
    "# Phase 1i: Garbbing Metadata\n",
    "\n",
    "```\n",
    "Parameters\n",
    "-------------\n",
    "save_dir: str  \n",
    "    Path to directory for saving outputs in.\n",
    "cache_dir: str \n",
    "       Path to directory for cached objects in.\n",
    " metadata_db: str\n",
    "       Path to csv or tsv containing metadata.\n",
    " dr_strain: str\n",
    "       Name  of dominant resident (DR) lineage.\n",
    " voi_strains: list of strs\n",
    "    Names  of Variant Of Interest (VOI) lineages.\n",
    "sub_vars_dict: dict {str: list of strs}\n",
    "    Dictionary defining sub lineages of dr_strain and voi_strains.\n",
    "root_strain_names: list of strs\n",
    "    IDs of sequences to be used as root.\n",
    "sample_id_field: str\n",
    "    Name of field in metadata_db containing sequence IDs.\n",
    "collection_date_field: str\n",
    "    Name of field in metadata_db containing collection dates of sequences. Should be format YYYY-MM-DD.\n",
    "lineage_field: str\n",
    "    Name of field in metadata_db containing lineage sequences belong to.\n",
    "metadata_dtypes: str\n",
    "    Optional can be an empy string, None or 'None'. Path to json defining pandas data types for metadata_db.\n",
    "data_filter: str\n",
    "    Optional can be an empy string, None or 'None'. Additional filter applieid to metadata_db when selecting \n",
    "    sequences and metadata to be used on pipeline. Must conform to [pandas documentation](https://pandas.pydata.org/docs/reference/api/pandas.DataFrame.query.html), see further [example](https://www.slingacademy.com/article/pandas-working-with-the-dataframe-query-method-5-examples/). \n",
    "```\n"
   ]
  },
  {
   "cell_type": "code",
   "execution_count": null,
   "id": "9774ada4-db5b-4f49-b68f-f4e94ae36891",
   "metadata": {
    "papermill": {
     "duration": 0.018424,
     "end_time": "2025-02-03T21:34:24.567328",
     "exception": false,
     "start_time": "2025-02-03T21:34:24.548904",
     "status": "completed"
    },
    "tags": [
     "parameters"
    ]
   },
   "outputs": [],
   "source": [
    "save_dir = 'runs_of_pipeline/2025-02-05'\n",
    "cache_dir = 'cache'\n",
    "metadata_db = None\n",
    "dr_strain = ''\n",
    "voi_strains = []\n",
    "sub_vars_dict = {}\n",
    "root_strain_names = None\n",
    "sample_id_field = 'strain'\n",
    "collection_date_field = 'date'\n",
    "lineage_field = 'pango_lineage'\n",
    "metadata_dtypes = None\n",
    "data_filter = 'country == \"Canada\" and coverage >= 0.925'\n",
    "data_prep_threads=8"
   ]
  },
  {
   "cell_type": "markdown",
   "id": "ad17ac4270f920b6",
   "metadata": {
    "papermill": {
     "duration": 0.009482,
     "end_time": "2025-02-03T21:34:26.295506",
     "exception": false,
     "start_time": "2025-02-03T21:34:26.286024",
     "status": "completed"
    },
    "tags": []
   },
   "source": [
    "Create folders for each strain. The VOI strains should have a prefix of 'VOI_'. The dominant resident strains should have the prefix of 'DR_' "
   ]
  },
  {
   "cell_type": "code",
   "execution_count": null,
   "id": "9070a2006e8ecb94",
   "metadata": {
    "papermill": {
     "duration": 0.017629,
     "end_time": "2025-02-03T21:34:26.321740",
     "exception": false,
     "start_time": "2025-02-03T21:34:26.304111",
     "status": "completed"
    },
    "tags": []
   },
   "outputs": [],
   "source": [
    "import os\n",
    "all_strains = [dr_strain] + voi_strains\n",
    "xml_set_directories = {}\n",
    "for strain in all_strains:\n",
    "    if strain in voi_strains:\n",
    "        xml_set_directories[strain] = save_dir + '/VOI_' + strain\n",
    "    elif strain == dr_strain:\n",
    "        xml_set_directories[strain] = save_dir + '/DR_' + strain\n",
    "    else:\n",
    "        xml_set_directories[strain] = save_dir + '/' + strain\n",
    "\n",
    "for path in xml_set_directories.values():\n",
    "    if not os.path.exists(path):\n",
    "        os.makedirs(path)"
   ]
  },
  {
   "cell_type": "markdown",
   "id": "29de29183382c6be",
   "metadata": {
    "papermill": {
     "duration": 0.00879,
     "end_time": "2025-02-03T21:34:26.339758",
     "exception": false,
     "start_time": "2025-02-03T21:34:26.330968",
     "status": "completed"
    },
    "tags": []
   },
   "source": [
    "For the loading all PHAC Covid sepuence metadata we need dask dataframe and to setup a dask client."
   ]
  },
  {
   "cell_type": "code",
   "execution_count": null,
   "id": "57a82861-0201-45a1-98d3-3991237a0804",
   "metadata": {
    "papermill": {
     "duration": 9.663024,
     "end_time": "2025-02-03T21:34:36.012972",
     "exception": false,
     "start_time": "2025-02-03T21:34:26.349948",
     "status": "completed"
    },
    "tags": []
   },
   "outputs": [],
   "source": [
    "from dask.distributed import Client\n",
    "import dask.dataframe as dd\n",
    "client = Client(n_workers=data_prep_threads)\n",
    "client"
   ]
  },
  {
   "cell_type": "markdown",
   "id": "b30946c3-dba1-4776-8eef-9b7067131fc2",
   "metadata": {
    "papermill": {
     "duration": 0.009004,
     "end_time": "2025-02-03T21:34:36.031360",
     "exception": false,
     "start_time": "2025-02-03T21:34:36.022356",
     "status": "completed"
    },
    "tags": []
   },
   "source": [
    "Dask dataframes may often through errors unless you tell it the datatypes of columns. This as dask does lazy dataframe loading, loading the dataframe in batches. Dask checks th data types of columns for the first X rows. If there is a differnce in data type of a column after row X an erorr can be thrown."
   ]
  },
  {
   "cell_type": "code",
   "execution_count": null,
   "id": "1f3b0fa2-58f1-4eb8-864b-f42ff1c199ba",
   "metadata": {
    "papermill": {
     "duration": 0.186924,
     "end_time": "2025-02-03T21:34:36.227964",
     "exception": false,
     "start_time": "2025-02-03T21:34:36.041040",
     "status": "completed"
    },
    "tags": []
   },
   "outputs": [],
   "source": [
    "import json\n",
    "if metadata_dtypes is None or metadata_dtypes in ['None', '']:\n",
    "    dtypes = None\n",
    "else:\n",
    "    with open(metadata_dtypes, 'r') as dtypes_json:\n",
    "        dtypes_data = dtypes_json.read()\n",
    "    dtypes_json.close()\n",
    "    dtypes = json.loads(dtypes_data)\n",
    "\n",
    "\n",
    "if metadata_db.endswith('.tsv'):\n",
    "    delimiter = '\\t'\n",
    "elif metadata_db.endswith('.csv'):\n",
    "    delimiter = ','\n",
    "else:\n",
    "    raise TypeError(f\"metadata_db must be a csv or tsv file, ending with the apporpraite file extension. Value given is {metadata_db}\" )\n",
    "metadata_all_ddf = dd.read_csv(metadata_db,\n",
    "                                    sep=delimiter,\n",
    "                                    dtype=dtypes,\n",
    "                                    parse_dates=[collection_date_field]\n",
    "                                   )\n"
   ]
  },
  {
   "cell_type": "markdown",
   "id": "fffcb033-06eb-4fda-9d40-9b6dad89b3fe",
   "metadata": {
    "papermill": {
     "duration": 0.009345,
     "end_time": "2025-02-03T21:34:36.247030",
     "exception": false,
     "start_time": "2025-02-03T21:34:36.237685",
     "status": "completed"
    },
    "tags": []
   },
   "source": [
    "You may get an error loading when running the cell above. This error suggests entrys you should add to the dtypes dictionary in the metadata_dtypes json file."
   ]
  },
  {
   "cell_type": "markdown",
   "id": "72a9aead-d73d-442c-b38e-df4628370fbf",
   "metadata": {
    "papermill": {
     "duration": 0.009865,
     "end_time": "2025-02-03T21:34:36.267538",
     "exception": false,
     "start_time": "2025-02-03T21:34:36.257673",
     "status": "completed"
    },
    "tags": []
   },
   "source": [
    "## Filtering to Selected Strains\n",
    "### Metadata\n",
    "\n",
    "Create filter mask"
   ]
  },
  {
   "cell_type": "code",
   "execution_count": null,
   "id": "6708a5a8-b3fe-4a4c-80f5-1dbec032b8fc",
   "metadata": {
    "papermill": {
     "duration": 0.027332,
     "end_time": "2025-02-03T21:34:36.304398",
     "exception": false,
     "start_time": "2025-02-03T21:34:36.277066",
     "status": "completed"
    },
    "tags": []
   },
   "outputs": [],
   "source": [
    "strain_sub_varients = [f\"'{item}'\" for sub_list in sub_vars_dict.values() for item in sub_list]\n",
    "\n",
    "strain_filter = f\"`{lineage_field}` in ({', '.join(strain_sub_varients)})\" \n",
    "\n",
    "if data_filter is None or data_filter in ['None','']:\n",
    "    overall_fiter = strain_filter\n",
    "else:\n",
    "    overall_fiter = f\"({data_filter}) & {strain_filter}\"\n",
    "\n",
    "selected_metadata = metadata_all_ddf.query(overall_fiter)"
   ]
  },
  {
   "cell_type": "markdown",
   "id": "c953c6d5-59ce-4c3d-8ad3-c064264492f1",
   "metadata": {
    "papermill": {
     "duration": 0.010969,
     "end_time": "2025-02-03T21:34:36.325199",
     "exception": false,
     "start_time": "2025-02-03T21:34:36.314230",
     "status": "completed"
    },
    "tags": []
   },
   "source": [
    "Apply filter to compute new pandas dataframe. This can take 2-15 mins, as dask is openning the dataframe in chunks and performing our selesction. "
   ]
  },
  {
   "cell_type": "code",
   "execution_count": null,
   "id": "888c49d5-f97d-4529-8643-d1c16520c862",
   "metadata": {
    "papermill": {
     "duration": 160.315662,
     "end_time": "2025-02-03T21:37:16.650165",
     "exception": false,
     "start_time": "2025-02-03T21:34:36.334503",
     "status": "completed"
    },
    "tags": []
   },
   "outputs": [],
   "source": [
    "#papermill_description=Collecting_VOIs_&_DR_metadata\n",
    "# Convert to pandas dataframe.\n",
    "selected_metadata = selected_metadata.compute()"
   ]
  },
  {
   "cell_type": "markdown",
   "id": "b4f6194e-013e-4c36-841c-2503ac8a5f08",
   "metadata": {
    "papermill": {
     "duration": 0.011765,
     "end_time": "2025-02-03T21:37:16.673672",
     "exception": false,
     "start_time": "2025-02-03T21:37:16.661907",
     "status": "completed"
    },
    "tags": []
   },
   "source": [
    "We need the root metadata as well"
   ]
  },
  {
   "cell_type": "code",
   "execution_count": null,
   "id": "b471dcf1-ff4b-4eaf-aebd-06cb8e71d026",
   "metadata": {
    "papermill": {
     "duration": 157.547653,
     "end_time": "2025-02-03T21:39:54.231700",
     "exception": false,
     "start_time": "2025-02-03T21:37:16.684047",
     "status": "completed"
    },
    "tags": []
   },
   "outputs": [],
   "source": [
    "#papermill_description=Collecting_Root_metadata\n",
    "root_metadata = metadata_all_ddf[metadata_all_ddf[sample_id_field].isin(root_strain_names)].compute()\n",
    "root_metadata.to_csv(save_dir +  '/root_metadata.csv', index=False)"
   ]
  },
  {
   "cell_type": "markdown",
   "id": "2efb089d-4154-4167-b42e-754d815b56ba",
   "metadata": {
    "papermill": {
     "duration": 0.009538,
     "end_time": "2025-02-03T21:39:54.251081",
     "exception": false,
     "start_time": "2025-02-03T21:39:54.241543",
     "status": "completed"
    },
    "tags": []
   },
   "source": [
    "**Remember to shutdown dask client when finished.**"
   ]
  },
  {
   "cell_type": "code",
   "execution_count": null,
   "id": "2cb565f0-0f53-4ab1-aa6d-e262fe05a74e",
   "metadata": {
    "papermill": {
     "duration": 0.665373,
     "end_time": "2025-02-03T21:39:54.925499",
     "exception": false,
     "start_time": "2025-02-03T21:39:54.260126",
     "status": "completed"
    },
    "tags": []
   },
   "outputs": [],
   "source": [
    "client.shutdown()"
   ]
  },
  {
   "cell_type": "code",
   "execution_count": null,
   "id": "1a480828-fcd8-469f-b2e8-b8909f723002",
   "metadata": {
    "papermill": {
     "duration": 0.017933,
     "end_time": "2025-02-03T21:39:54.953738",
     "exception": false,
     "start_time": "2025-02-03T21:39:54.935805",
     "status": "completed"
    },
    "tags": []
   },
   "outputs": [],
   "source": [
    "selected_metadata.pango_lineage.value_counts()"
   ]
  },
  {
   "cell_type": "markdown",
   "id": "e3a6cdf4-5281-4ea8-b685-e13369552be4",
   "metadata": {
    "papermill": {
     "duration": 0.009023,
     "end_time": "2025-02-03T21:39:54.972076",
     "exception": false,
     "start_time": "2025-02-03T21:39:54.963053",
     "status": "completed"
    },
    "tags": []
   },
   "source": [
    "Various packages used in this pipeline need dates (e.g. BEAST) to be expressed as year decimals."
   ]
  },
  {
   "cell_type": "code",
   "execution_count": null,
   "id": "715602fa-92e3-4543-afb9-70b5cdaf6a87",
   "metadata": {
    "papermill": {
     "duration": 0.121426,
     "end_time": "2025-02-03T21:39:55.102720",
     "exception": false,
     "start_time": "2025-02-03T21:39:54.981294",
     "status": "completed"
    },
    "tags": []
   },
   "outputs": [],
   "source": [
    "from beast_pype.date_utilities import date_to_decimal\n",
    "\n",
    "selected_metadata ['year_decimal'] = selected_metadata[collection_date_field].map(date_to_decimal)"
   ]
  },
  {
   "cell_type": "markdown",
   "id": "2ec0add7-0fa1-4866-b1fd-9ac5ce30276d",
   "metadata": {
    "papermill": {
     "duration": 0.00967,
     "end_time": "2025-02-03T21:39:55.123832",
     "exception": false,
     "start_time": "2025-02-03T21:39:55.114162",
     "status": "completed"
    },
    "tags": []
   },
   "source": [
    "Save all metadata for each strain and create some strain specific dictionaries."
   ]
  },
  {
   "cell_type": "code",
   "execution_count": null,
   "id": "9ae276861ee2369c",
   "metadata": {
    "papermill": {
     "duration": 1.275204,
     "end_time": "2025-02-03T21:39:56.408919",
     "exception": false,
     "start_time": "2025-02-03T21:39:55.133715",
     "status": "completed"
    },
    "tags": []
   },
   "outputs": [],
   "source": [
    "import pandas as pd\n",
    "strain_metadata_dict = {}\n",
    "for strain, sub_vars_list in sub_vars_dict.items(): \n",
    "    strain_metadata = selected_metadata[selected_metadata[lineage_field].isin(sub_vars_list)]\n",
    "    strain_metadata_dict[strain] = strain_metadata\n",
    "    strain_metadata.to_csv(f'{xml_set_directories[strain]}/metadata.csv', index=False) # Saving metadata_update as well.\n",
    "    strain_and_root_metadata = pd.concat([root_metadata, strain_metadata])\n",
    "    strain_and_root_metadata.to_csv(f'{xml_set_directories[strain]}/metadata_with_root.csv', index=False) # Saving metadata_update as well.\n",
    "\n",
    "\n",
    "available_samples = {strain: len(metadata) for strain, metadata in strain_metadata_dict.items()}"
   ]
  },
  {
   "cell_type": "markdown",
   "id": "4890fb9b-4782-46c2-9faa-d64b40fce5da",
   "metadata": {
    "papermill": {
     "duration": 0.011391,
     "end_time": "2025-02-03T21:39:56.430874",
     "exception": false,
     "start_time": "2025-02-03T21:39:56.419483",
     "status": "completed"
    },
    "tags": []
   },
   "source": [
    "## Setting up IDs.txt files for Phase 2. \n",
    "\n",
    "These are simply files of sequence IDs (one per line).\n",
    "First lets do this for all sequences."
   ]
  },
  {
   "cell_type": "code",
   "execution_count": null,
   "id": "c64f01b3-01a6-4fff-b3e8-928b2e3de65e",
   "metadata": {
    "papermill": {
     "duration": 0.029015,
     "end_time": "2025-02-03T21:39:56.468871",
     "exception": false,
     "start_time": "2025-02-03T21:39:56.439856",
     "status": "completed"
    },
    "tags": []
   },
   "outputs": [],
   "source": [
    "cached_ids_with_root = cache_dir + '/all_IDs.txt'\n",
    "ids = selected_metadata[sample_id_field]\n",
    "ids_with_root = pd.Series(root_strain_names + ids.to_list())\n",
    "ids_with_root.to_csv(cached_ids_with_root, sep='\\t', index=False, header=False)"
   ]
  },
  {
   "cell_type": "markdown",
   "id": "51897e83-8af3-4419-a462-e0b885e83205",
   "metadata": {},
   "source": [
    "Then for each strain."
   ]
  },
  {
   "cell_type": "code",
   "execution_count": null,
   "id": "ad836cd6-bad1-48a9-8879-0cfebbce95c8",
   "metadata": {},
   "outputs": [],
   "source": [
    "for strain, strain_metadata in strain_metadata_dict.items():\n",
    "    file_name= xml_set_directories[strain] + '/strain'\n",
    "    ids = strain_metadata[sample_id_field]\n",
    "    ids.to_csv(file_name +  '_IDs.txt', sep='\\t', index=False, header=False)\n",
    "    ids_with_root = pd.Series(root_strain_names + ids.to_list())\n",
    "    ids_with_root.to_csv(file_name +  '_with_root_IDs.txt', sep='\\t', index=False, header=False)"
   ]
  },
  {
   "cell_type": "markdown",
   "id": "1948d747-badf-47b5-ad31-a2030691b431",
   "metadata": {
    "papermill": {
     "duration": null,
     "end_time": null,
     "exception": null,
     "start_time": null,
     "status": "pending"
    },
    "tags": []
   },
   "source": [
    "# Saving information to pass onto the next Phases"
   ]
  },
  {
   "cell_type": "code",
   "execution_count": null,
   "id": "2361e9da-86fd-4696-8eaf-01748a19f7bd",
   "metadata": {
    "papermill": {
     "duration": null,
     "end_time": null,
     "exception": null,
     "start_time": null,
     "status": "pending"
    },
    "tags": []
   },
   "outputs": [],
   "source": [
    "pipeline_run_info = {'xml set directories': xml_set_directories,\n",
    "                     'strain sub-variants': sub_vars_dict,\n",
    "                     'available samples': available_samples,\n",
    "                     'root strain names': root_strain_names,\n",
    "                     }\n",
    "\n",
    "with open(save_dir +'/pipeline_run_info.json', 'w') as fp:\n",
    "    json.dump(pipeline_run_info, fp, sort_keys=True, indent=4)\n",
    "\n",
    "fp.close()"
   ]
  }
 ],
 "metadata": {
  "kernelspec": {
   "display_name": "beast_pype",
   "language": "python",
   "name": "beast_pype"
  },
  "language_info": {
   "codemirror_mode": {
    "name": "ipython",
    "version": 3
   },
   "file_extension": ".py",
   "mimetype": "text/x-python",
   "name": "python",
   "nbconvert_exporter": "python",
   "pygments_lexer": "ipython3",
   "version": "3.10.15"
  },
  "papermill": {
   "default_parameters": {},
   "duration": null,
   "end_time": null,
   "environment_variables": {},
   "exception": null,
   "input_path": "Phase-1-Data-Gathering.ipynb",
   "output_path": "Phase-1-Data-Gathering.ipynb",
   "parameters": {
    "cache_dir": "cache",
    "metadata_db": "/Drives/P/gisaid/merge/output/merge_ngdb-gisaid.tsv",
    "min_coverage": 0.925,
    "number_of_vois": 3,
    "root_strain_names": [
     "Wuhan/Hu-1/2019",
     "Wuhan/IPBCAMS-WH-01/2019"
    ],
    "save_dir": "runs_of_pipeline",
    "sequence_db": "/Drives/P/gisaid/nextclade/nextclade.fasta",
    "suggested_sample_sizes": [
     1000
    ]
   },
   "start_time": "2025-02-03T21:34:22.239444",
   "version": "2.6.0"
  }
 },
 "nbformat": 4,
 "nbformat_minor": 5
}
