{
 "cells": [
  {
   "cell_type": "markdown",
   "id": "d7d95f35b078330d",
   "metadata": {
    "editable": true,
    "slideshow": {
     "slide_type": ""
    },
    "tags": []
   },
   "source": [
    "# Phase 3: Setting up the BEAST xmls\n",
    "\n",
    "```\n",
    "Parameters\n",
    "-------------\n",
    "save_dir: str  \n",
    "    Path to directory for saving outputs in.\n",
    "cache_dir: str \n",
    "    Path to directory for cached objects in. \n",
    "template_xml_path:\n",
    "    Path to template BEAST xml.\n",
    " voi_strains: list of strs\n",
    "    Names  of Variant Of Interest (VOI) lineages.\n",
    "origin_upper_height_addition: int or float\n",
    "    Value to add to tree height for upper limit of origin prior. Origin prior is uniformly distributed.\n",
    "infection_period: float\n",
    "    Suggested infection period of pathogen. **Should be in years.** This + initial MLE tree height is used as starting value of origin.\n",
    "chain_length: int\n",
    "    Number of chains to use for BEAST runs.\n",
    "trace_log_every: int\n",
    "    How often to save a log file during BEAST runs.\n",
    "tree_log_every: int\n",
    "    How often to save a tree file during BEAST runs.\n",
    "screen_log_every: int\n",
    "    How often to output to screen during BEAST runs.\n",
    "store_state_every: int \n",
    "    How often to store MCMC state during BEAST runs.\n",
    "```\n"
   ]
  },
  {
   "cell_type": "code",
   "execution_count": 1,
   "id": "383f2dc8b3083270",
   "metadata": {
    "tags": [
     "parameters"
    ]
   },
   "outputs": [],
   "source": [
    "save_dir = 'runs_of_pipeline/2025-02-05'\n",
    "cache_dir = 'cache'\n",
    "template_xml_path = 'template_beast_xmls/BDSKY_serial_COVID-19_template.xml'\n",
    "voi_strains= ['']\n",
    "origin_upper_addition = 2\n",
    "origin_start_addition = 10 / 365.25\n",
    "chain_length = int(1e7)\n",
    "trace_log_every = int(1e4)\n",
    "tree_log_every = int(1e4)\n",
    "screen_log_every = int(1e4)\n",
    "store_state_every = int(1e4)\n",
    "collection_date_field='date'"
   ]
  },
  {
   "cell_type": "markdown",
   "id": "2d1385ce75f60021",
   "metadata": {},
   "source": [
    "Import packages. "
   ]
  },
  {
   "cell_type": "code",
   "execution_count": 2,
   "id": "af60f708f20b547d",
   "metadata": {
    "ExecuteTime": {
     "end_time": "2025-03-31T17:07:06.035717Z",
     "start_time": "2025-03-31T17:07:06.033639Z"
    }
   },
   "outputs": [],
   "source": [
    "import json\n",
    "from pandas.tseries.offsets import DateOffset\n",
    "from beast_pype.beast_xml_gen import gen_bdsky_serial_xml\n",
    "from copy import deepcopy\n",
    "import os\n",
    "import pandas as pd"
   ]
  },
  {
   "cell_type": "markdown",
   "id": "a56acefbf7c3e30b",
   "metadata": {},
   "source": [
    "\n",
    "We need several things from the metadata:"
   ]
  },
  {
   "cell_type": "code",
   "execution_count": 2,
   "id": "5b05faba30277ddc",
   "metadata": {
    "ExecuteTime": {
     "end_time": "2024-11-21T19:15:03.477603Z",
     "start_time": "2024-11-21T19:15:03.473421Z"
    }
   },
   "outputs": [],
   "source": [
    "with open(save_dir + \"/pipeline_run_info.json\", \"r\") as file:\n",
    "    data = file.read()\n",
    "file.close()\n",
    "pipeline_run_info = json.loads(data)\n",
    "xml_set_directories = pipeline_run_info['xml set directories']\n",
    "voi_youngest_tips_dates = {}\n",
    "voi_oldest_tips_dates = {}\n",
    "for xml_set, selection in xml_set_directories.items():\n",
    "    if xml_set in voi_strains:\n",
    "        metadata_file = f'{selection}/down_sampled_metadata.csv'\n",
    "        if not os.path.isfile(metadata_file):\n",
    "            metadata_file = f'{selection}/metadata.csv'\n",
    "\n",
    "        xml_set_metadata = pd.read_csv(metadata_file, parse_dates=[collection_date_field])\n",
    "\n",
    "        voi_youngest_tips_dates[xml_set] =  xml_set_metadata[collection_date_field].max()\n",
    "        voi_oldest_tips_dates[xml_set] =  xml_set_metadata[collection_date_field].min()\n",
    "\n"
   ]
  },
  {
   "cell_type": "markdown",
   "id": "54c0e874-3ea9-405c-bddf-51b420ba86f2",
   "metadata": {},
   "source": [
    "## Generate the $R_t$ change dates.  \n",
    "\n",
    "Back every 4 weeks from the youngest tip. For VOIs stop at the youngest tip out of the oldest tips for each sample. For DR back an extra 4 weeks. "
   ]
  },
  {
   "cell_type": "code",
   "execution_count": 5,
   "id": "51c9e147-a3b9-4d9c-84b8-42db408fe250",
   "metadata": {
    "ExecuteTime": {
     "end_time": "2024-11-21T19:15:04.062636Z",
     "start_time": "2024-11-21T19:15:03.982860Z"
    }
   },
   "outputs": [],
   "source": [
    "voi_youngest_tip = max(voi_youngest_tips_dates.values())\n",
    "voi_youngest_oldest_tip = max(voi_oldest_tips_dates.values())\n",
    "voi_re_date_changes = []\n",
    "date_to_append = deepcopy(voi_youngest_tip)\n",
    "while date_to_append > voi_youngest_oldest_tip:\n",
    "    date_to_append = date_to_append - DateOffset(weeks=4)\n",
    "    voi_re_date_changes.append(date_to_append)\n",
    "\n",
    "res_re_date_changes = deepcopy(voi_re_date_changes)\n",
    "res_re_date_changes.append(date_to_append - DateOffset(weeks=4))"
   ]
  },
  {
   "cell_type": "markdown",
   "id": "c7e915d8-82c3-4382-8b09-bd6e9b7f071e",
   "metadata": {},
   "source": [
    "## Actually Generating the BEAST2 xmls."
   ]
  },
  {
   "cell_type": "code",
   "execution_count": 7,
   "id": "c1520ffbfb66f1c1",
   "metadata": {
    "ExecuteTime": {
     "end_time": "2024-11-21T19:15:05.362313Z",
     "start_time": "2024-11-21T19:15:04.121462Z"
    },
    "editable": true,
    "slideshow": {
     "slide_type": ""
    },
    "tags": []
   },
   "outputs": [],
   "source": [
    "for xml_set, selection in xml_set_directories.items():\n",
    "    if xml_set in voi_strains:\n",
    "        strain_prefix = \"VOI_\"\n",
    "        changes = voi_re_date_changes\n",
    "    else:\n",
    "        strain_prefix = \"DR_\"\n",
    "        changes = res_re_date_changes\n",
    "\n",
    "    fasta_file = f'{selection}/down_sampled_sequences.fasta'\n",
    "    if not os.path.isfile(fasta_file):\n",
    "        fasta_file = f'{selection}/sequences.fasta'\n",
    "\n",
    "    metadata_file = f'{selection}/down_sampled_metadata.csv'\n",
    "    if not os.path.isfile(metadata_file):\n",
    "        metadata_file = f'{selection}/metadata.csv'\n",
    "\n",
    "    initial_tree_path = f'{selection}/down_sampled_time.nwk'\n",
    "    if not os.path.exists(initial_tree_path):\n",
    "        initial_tree_path = f'{selection}/full_time.nwk'\n",
    "\n",
    "    gen_bdsky_serial_xml(\n",
    "        template_path=template_xml_path,\n",
    "       sequences_path=fasta_file,\n",
    "       metadata_path=f\"{selection}/metadata.csv\",\n",
    "       initial_tree_path=initial_tree_path,\n",
    "       origin_upper_height_addition=origin_upper_addition,\n",
    "       origin_start_addition=origin_start_addition,\n",
    "       output_path=f\"{selection}/beast.xml\",\n",
    "       rt_change_dates=changes,\n",
    "       log_file_basename=xml_set,\n",
    "       chain_length=chain_length,\n",
    "       trace_log_every=trace_log_every,\n",
    "       tree_log_every=tree_log_every,\n",
    "       screen_log_every=screen_log_every,\n",
    "       store_state_every=store_state_every\n",
    "    )\n"
   ]
  },
  {
   "cell_type": "markdown",
   "id": "84de5303-cf5b-4078-b58c-997116c661dc",
   "metadata": {},
   "source": [
    "### Add $R_{t}$ Change dates to pipeline_run_info"
   ]
  },
  {
   "cell_type": "code",
   "execution_count": 8,
   "id": "8f7cc3a1-4b41-4e1c-8398-8f0cd2da65cf",
   "metadata": {},
   "outputs": [],
   "source": [
    "with open(save_dir +'/pipeline_run_info.json', 'r') as file:\n",
    "    data = file.read()\n",
    "file.close()\n",
    "pipeline_run_info = json.loads(data)\n",
    "pipeline_run_info['Re change dates'] = {'DR': [str(value.date()) for value in res_re_date_changes],\n",
    "                                        'VOI': [str(value.date()) for value in voi_re_date_changes]}\n",
    "with open(save_dir +'/pipeline_run_info.json', 'w') as fp:\n",
    "    json.dump(pipeline_run_info, fp, sort_keys=True, indent=4)\n",
    "\n",
    "fp.close()"
   ]
  }
 ],
 "metadata": {
  "kernelspec": {
   "display_name": "beast_pype",
   "language": "python",
   "name": "beast_pype"
  },
  "language_info": {
   "codemirror_mode": {
    "name": "ipython",
    "version": 3
   },
   "file_extension": ".py",
   "mimetype": "text/x-python",
   "name": "python",
   "nbconvert_exporter": "python",
   "pygments_lexer": "ipython3",
   "version": "3.10.15"
  }
 },
 "nbformat": 4,
 "nbformat_minor": 5
}
