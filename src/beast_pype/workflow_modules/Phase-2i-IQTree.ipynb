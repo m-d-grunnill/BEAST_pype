{
 "cells": [
  {
   "cell_type": "markdown",
   "id": "6a045ae9-8767-4ec7-bb83-457cf5d7157f",
   "metadata": {
    "editable": true,
    "slideshow": {
     "slide_type": ""
    },
    "tags": []
   },
   "source": [
    "# Phase 2i: Running IQtree\n",
    "\n",
    "Generates distance tree using IQTree.\n",
    "\n",
    "```\n",
    "Parameters\n",
    "-------------\n",
    "save_dir: str\n",
    "    Path to directory for saving outputs in.\n",
    "\n",
    "cache_dir: str \n",
    "    Path to directory for cached objects in.\n",
    "\n",
    "fasta_file: str\n",
    "    Name used for fasta files containing sequences.\n",
    "\n",
    "partition: str\n",
    "    Name of partition to use when calling `sbatch`.\n",
    "```"
   ]
  },
  {
   "cell_type": "code",
   "execution_count": null,
   "id": "87149b5d-febb-409e-8554-5f625c2e20d1",
   "metadata": {
    "tags": [
     "parameters"
    ]
   },
   "outputs": [],
   "source": [
    "save_dir='runs_of_pipeline/2025-02-05'\n",
    "cache_dir='cache'\n",
    "fasta_file= 'sequences_with_root.fasta'\n",
    "partition=None"
   ]
  },
  {
   "cell_type": "code",
   "execution_count": null,
   "id": "9c4fc3a0-5d92-4dc5-b5a7-c827bfeb1dc5",
   "metadata": {},
   "outputs": [],
   "source": [
    "# For some reason this still has to be called so that slurm's sbatch to use the beast_pype environment.\n",
    "source activate beast_pype"
   ]
  },
  {
   "cell_type": "code",
   "execution_count": null,
   "id": "b723432e-60cc-49c5-aec3-b124f8316ea8",
   "metadata": {},
   "outputs": [],
   "source": [
    " job_ids_file=$cache_dir/slurm_job_ids.txt\n",
    " if [ -f \"${fasta_file}\" ]; then\n",
    "    job_name=\"iqtree\"\n",
    "    job_id=$(sbatch -p $partition -J  $job_name -o \"${save_dir}/iqtree.out\" -c 11 --mem=32G --parsable --time=1-00:00:00\\\n",
    "        --wrap=\"iqtree -ninit 2 -n 2 -me 0.05 -nt 11 -s ${fasta_file} -m GTR -ninit 10 -n 4 -pre ${save_dir}/iqtree; echo 'slurm_job_complete'\")\n",
    "    echo \"${job_id}\" >> $job_ids_file\n",
    "else\n",
    "     for i in $save_dir/*\n",
    "        do\n",
    "            if [ -d $i ] && [ \"$i\" != \"$cache_dir\" ]; then\n",
    "                xml_set=${i##*/}\n",
    "                job_name=\"${xml_set}_iqtree\"\n",
    "                job_id=$(sbatch -p $partition -J  $job_name -o \"${i}/iqtree.out\" -c 11 --mem=32G --parsable --time=1-00:00:00\\\n",
    "                    --wrap=\"iqtree -ninit 2 -n 2 -me 0.05 -nt 11 -s ${i}/${fasta_file} -m GTR -ninit 10 -n 4 -pre ${i}/iqtree; echo 'slurm_job_complete'\")\n",
    "                echo \"${job_id}\" >> $job_ids_file\n",
    "            fi\n",
    "        done\n",
    "fi"
   ]
  },
  {
   "cell_type": "markdown",
   "id": "77577313-cad3-45a2-93bd-2b9c90c77f99",
   "metadata": {},
   "source": [
    "To check the progress of the slurm jobs building IQTrees use the terminal command: `squeue --me`."
   ]
  }
 ],
 "metadata": {
  "kernelspec": {
   "display_name": "Bash",
   "language": "bash",
   "name": "bash"
  },
  "language_info": {
   "codemirror_mode": "shell",
   "file_extension": ".sh",
   "mimetype": "text/x-sh",
   "name": "bash"
  }
 },
 "nbformat": 4,
 "nbformat_minor": 5
}
