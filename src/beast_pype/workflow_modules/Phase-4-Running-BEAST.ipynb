{
 "cells": [
  {
   "cell_type": "markdown",
   "id": "ad88535263ab9c83",
   "metadata": {},
   "source": [
    "# Phase 4: Running BEAST\n",
    "\n",
    "```\n",
    "Parameters\n",
    "-------------\n",
    "save_dir: str  \n",
    "    Path to directory for saving outputs in.\n",
    "\n",
    "cache_dir: str \n",
    "    Path to directory for cached objects in.\n",
    "\n",
    "number_of_chains: int\n",
    "    Number of chains to use (repeated runs to do) when running BEAST.\n",
    "\n",
    "seeds: list of ints\n",
    "    Seeds to use when running BEAST.\n",
    "\n",
    "partition: str\n",
    "    Name of partition to use when calling `sbatch`.\n",
    "\n",
    "beast_ram: str\n",
    "    RAM to use for each run of beast see sbatch documentation.\n",
    "\n",
    "beast_threads: int\n",
    "    Threads/CPUs to use for each run of beast see https://www.beast2.org/2021/03/31/command-line-options.html.\n",
    "```\n"
   ]
  },
  {
   "cell_type": "code",
   "execution_count": 1,
   "id": "297ece6a0ab59924",
   "metadata": {
    "tags": [
     "parameters"
    ]
   },
   "outputs": [],
   "source": [
    "save_dir=runs_of_pipeline/2025-02-05\n",
    "cache_dir=cache\n",
    "number_of_chains=4\n",
    "seeds=(42 2 88 57 200 3000 49 888)\n",
    "partition=None\n",
    "beast_ram=32G\n",
    "beast_threads=6"
   ]
  },
  {
   "cell_type": "code",
   "execution_count": 2,
   "id": "initial_id",
   "metadata": {
    "ExecuteTime": {
     "end_time": "2024-11-12T15:29:25.686401Z",
     "start_time": "2024-11-12T15:29:25.683538Z"
    }
   },
   "outputs": [
    {
     "name": "stdout",
     "output_type": "stream",
     "text": [
      "(/Drives/P/conda_envs/beast_pype) \n"
     ]
    }
   ],
   "source": [
    "# For some reason this still has to be called so that slurm's sbatch to use the beast_pype environment.\n",
    "source activate beast_pype"
   ]
  },
  {
   "cell_type": "code",
   "execution_count": 5,
   "id": "621a298a-5131-4cfd-bd6f-71ce44a0fb1a",
   "metadata": {},
   "outputs": [
    {
     "name": "stdout",
     "output_type": "stream",
     "text": [
      "Submitted batch job 48543874\n",
      "Submitted batch job 48543875\n",
      "Submitted batch job 48543876\n",
      "Submitted batch job 48543877\n",
      "Submitted batch job 48543878\n",
      "Submitted batch job 48543879\n",
      "Submitted batch job 48543880\n",
      "Submitted batch job 48543881\n",
      "Submitted batch job 48543882\n",
      "Submitted batch job 48543883\n",
      "Submitted batch job 48543884\n",
      "Submitted batch job 48543885\n",
      "Submitted batch job 48543886\n",
      "Submitted batch job 48543887\n",
      "Submitted batch job 48543888\n",
      "Submitted batch job 48543889\n",
      "Submitted batch job 48543890\n",
      "Submitted batch job 48543891\n",
      "Submitted batch job 48543892\n",
      "Submitted batch job 48543893\n",
      "Submitted batch job 48543894\n",
      "Submitted batch job 48543895\n",
      "Submitted batch job 48543896\n",
      "Submitted batch job 48543897\n",
      "Submitted batch job 48543898\n",
      "Submitted batch job 48543899\n",
      "Submitted batch job 48543900\n",
      "Submitted batch job 48543901\n",
      "Submitted batch job 48543902\n",
      "Submitted batch job 48543903\n",
      "Submitted batch job 48543904\n",
      "Submitted batch job 48543905\n",
      "Submitted batch job 48543906\n",
      "Submitted batch job 48543907\n",
      "Submitted batch job 48543908\n",
      "Submitted batch job 48543909\n",
      "(/Drives/P/conda_envs/beast_pype) \n"
     ]
    }
   ],
   "source": [
    "job_ids_file=$cache_dir/slurm_job_ids.txt\n",
    "seed_index=0\n",
    "if [ -e $save_dir/beast.xml ]\n",
    "    then\n",
    "    for rep in $(seq 1 $number_of_chains)\n",
    "        do\n",
    "            job_name=\"beast_full_sample_run_${rep}\"\n",
    "            job_id=$(sbatch -p $partition -c 1 --mem $beast_ram -J $job_name -o $save_dir/run-$rep.out --parsable --time=3-00:00:00\\\n",
    "                        --wrap=\"beast -seed ${seeds[$seed_index]} -prefix '$save_dir/run-$rep-' -statefile '$save_dir/run-$rep-link_state.state'  '$save_dir/beast.xml'; echo 'slurm_job_complete'\")\n",
    "            echo \"${job_id}\" >> $job_ids_file\n",
    "            seed_index=$seed_index+1\n",
    "        done\n",
    "    else\n",
    "    for i in $save_dir/*\n",
    "        do \n",
    "        if [ -d $i ] && [ \"$i\" != \"$cache_dir\" ]; then\n",
    "            xml_set=${i##*/}\n",
    "            for rep in $(seq 1 $number_of_chains)\n",
    "                do\n",
    "                    job_name=\"beast_sample_${xml_set}_run_${rep}\"\n",
    "                    job_id=$(sbatch -p $partition -c $beast_threads --mem $beast_ram -J $job_name -o $i/run-$rep.out --parsable --time=7-00:00:00\\\n",
    "                        --wrap=\"beast -seed ${seeds[$seed_index]} -threads $beast_threads -prefix '$i/run-$rep-'  -statefile '$i/run-$rep-link_state.state' '$i/beast.xml'; echo 'slurm_job_complete'\")\n",
    "                    echo \"${job_id}\" >> $job_ids_file\n",
    "                    seed_index=$seed_index+1\n",
    "                done\n",
    "        fi\n",
    "    done \n",
    "fi"
   ]
  },
  {
   "cell_type": "markdown",
   "id": "08910883-2148-451b-aebc-e8c008ca50ad",
   "metadata": {},
   "source": [
    "It may take several hours (overnight) for these beast runs to finish. You can check on there progress via `squeue --me`.\n",
    "\n",
    "**Once the BEAST runs are finished** you can run the [Phase-6-Initial-MCMC-Diagnosis.ipynb](Phase-6-Initial-MCMC-Diagnosis.ipynb) notebook."
   ]
  }
 ],
 "metadata": {
  "kernelspec": {
   "display_name": "Bash",
   "language": "bash",
   "name": "bash"
  },
  "language_info": {
   "codemirror_mode": "shell",
   "file_extension": ".sh",
   "mimetype": "text/x-sh",
   "name": "bash"
  }
 },
 "nbformat": 4,
 "nbformat_minor": 5
}
