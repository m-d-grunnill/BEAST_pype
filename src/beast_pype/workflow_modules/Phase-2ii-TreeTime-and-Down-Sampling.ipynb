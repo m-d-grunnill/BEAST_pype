{
 "cells": [
  {
   "cell_type": "markdown",
   "id": "77a66598-bf24-4c7d-935c-c009383a88b4",
   "metadata": {
    "editable": true,
    "slideshow": {
     "slide_type": ""
    },
    "tags": []
   },
   "source": [
    "# Phase 2ii: TreeTime & Down Sampling\n",
    "\n",
    "Generates temporal tree using TreeTime and if down_sample_to is provided performs downsampling.\n",
    "\n",
    "```\n",
    "Parameters\n",
    "-------------\n",
    "save_dir: str  \n",
    "    Path to directory for saving outputs in.\n",
    "\n",
    "fasta_file: str, optional\n",
    "    Path to fasta file containing sequences to use in generating a BEAST 2 xml.\n",
    "    If not given and root_strain_names is not given is used instaedf'{save_dir}/sequences.fasta'\n",
    "    If not given and root_strain_names is given f'{save_dir}/sequences_with_root.fasta' is used instead.\n",
    "\n",
    "metadata_path: str\n",
    "    Path to csv or tsv containing metadata pertaining to fasta_file.\n",
    "    If not given and root_strain_names is not given is used instaedf'{save_dir}/metadata.csv'\n",
    "    If not given and root_strain_names is given f'{save_dir}/metadata_with_root.csv' is used instead.\n",
    "\n",
    "sample_id_field: str, default 'strain'\n",
    "    Name of field in metadata_path containing ids corresponding to those used in fasta_file.\n",
    "\n",
    "collection_date_field: str, default 'date'\n",
    "    Name of field in metadata_pathcontaining collection dates of sequences. Should be format YYYY-MM-DD.\n",
    "\n",
    "root_strain_names: list of strings, optional\n",
    "    IDs of sequences used to root 'Temporal' initial_tree removed from fasta file and initial tree file used to generate\n",
    "    the BEAST 2 xml.\n",
    "\n",
    "down_sample_to: int, optional\n",
    "    If provided the fasta file and initial tree file used to generate the BEAST 2 xml is downsampled to this amount.\n",
    "    If downsampling occurs the following are saved in save_dir and used in generating a BEAST 2 xml in phase 4:\n",
    "        down_sampled_time.nwk: A downsampled temporal tree.\n",
    "        down_sampled_sequences.fasta: Fasta file containing downsamplec sequences.\n",
    "        down_sampled_metadata.csv: the down sampled metadata.\n",
    "```\n"
   ]
  },
  {
   "cell_type": "code",
   "execution_count": null,
   "id": "90e687b7-3cf3-415b-a554-6b0544ba7e9f",
   "metadata": {
    "tags": [
     "parameters"
    ]
   },
   "outputs": [],
   "source": [
    "save_dir = 'runs_of_pipeline/2025-02-05'\n",
    "fasta_file=None\n",
    "metadata_path=None\n",
    "sample_id_field = 'strain'\n",
    "collection_date_field = 'date'\n",
    "root_strain_names = None\n",
    "down_sample_to= None"
   ]
  },
  {
   "cell_type": "markdown",
   "id": "315df3821ecc1dcd",
   "metadata": {},
   "source": [
    "### Import packages and get data if not in save_dir"
   ]
  },
  {
   "cell_type": "code",
   "execution_count": null,
   "id": "e0515f14-b8cc-41da-a5d5-7a4a5454b879",
   "metadata": {
    "jupyter": {
     "is_executing": true
    }
   },
   "outputs": [],
   "source": [
    "from beast_pype.tree_time_scale import timescale, temporal_pruning_sampler\n",
    "from Bio import Phylo, SeqIO\n",
    "import os\n",
    "import pandas as pd\n",
    "import ete3"
   ]
  },
  {
   "cell_type": "code",
   "execution_count": null,
   "id": "61d1aa922d6f1fc7",
   "metadata": {},
   "outputs": [],
   "source": [
    "if metadata_path is None:\n",
    "    if root_strain_names is None: \n",
    "        metadata_path = f'{save_dir}/metadata.csv'\n",
    "    else:\n",
    "        metadata_path = f'{save_dir}/metadata_with_root.csv'\n",
    "    if not os.path.isfile(metadata_path):\n",
    "        raise FileNotFoundError(f'If metadata_path is not given the the save_dir directory `{save_dir}` must contain either the file \"metadata.csv\" or the file \"metadata_with_root.csv\" (if root_strain_names is given). ')\n",
    "        \n",
    "if fasta_file is None:\n",
    "    if root_strain_names is None: \n",
    "        fasta_file = f'{save_dir}/sequences.fasta'\n",
    "    else:\n",
    "        fasta_file = f'{save_dir}/sequences_with_root.fasta'\n",
    "    if not os.path.isfile(fasta_file):\n",
    "        raise FileNotFoundError(f'If fasta_file is not given the the save_dir directory `{save_dir}` must contain either the file \"sequences.fasta_file\" or the file \"sequences_with_root.fasta_file\" (if root_strain_names is given).')"
   ]
  },
  {
   "cell_type": "markdown",
   "id": "d5858a91-5cf2-4d34-a37f-ff83da931071",
   "metadata": {},
   "source": [
    "## Generating time trees"
   ]
  },
  {
   "cell_type": "markdown",
   "id": "e14f09d9b208bad6",
   "metadata": {},
   "source": [
    "IQ tree is offended by the charachters: '/'. The code below corrects this."
   ]
  },
  {
   "cell_type": "code",
   "execution_count": null,
   "id": "c787728dcfb7067d",
   "metadata": {},
   "outputs": [],
   "source": [
    "correction_dict = {seq_record.id.replace('/', '_'): seq_record.id for seq_record in SeqIO.parse(fasta_file, \"fasta\")}\n",
    "\n",
    "tree_file = f'{save_dir}/iqtree.treefile'\n",
    "fh = open(tree_file)\n",
    "tree = fh.read()\n",
    "for changed, original in correction_dict.items():\n",
    "    tree = tree.replace(changed, original)\n",
    "\n",
    "oh = open(tree_file, 'w')\n",
    "oh.write(tree)\n",
    "oh.close()"
   ]
  },
  {
   "cell_type": "code",
   "execution_count": null,
   "id": "dcb0923d0ab1edc7",
   "metadata": {},
   "outputs": [],
   "source": [
    "if root_strain_names is None:\n",
    "    time_tree, bad_tips = timescale(\n",
    "        ftree=f'{save_dir}/iqtree.treefile',\n",
    "        falignment=fasta_file, \n",
    "        fdates=metadata_path,\n",
    "        remove_root=False,\n",
    "        node_confidence_dir=save_dir,\n",
    "        sample_id_field=sample_id_field,\n",
    "        collection_date_field=collection_date_field        \n",
    "    )\n",
    "else:\n",
    "    time_tree, bad_tips = timescale(\n",
    "            ftree=f'{save_dir}/iqtree.treefile',\n",
    "            falignment=fasta_file, \n",
    "            fdates=metadata_path,\n",
    "            reroot=root_strain_names,\n",
    "            node_confidence_dir=save_dir,\n",
    "            sample_id_field=sample_id_field,\n",
    "            collection_date_field=collection_date_field        \n",
    "        )\n",
    "    \n",
    "\n",
    "Phylo.write(time_tree.tree,\n",
    "                f'{save_dir}/full_time.nwk',\n",
    "                format='newick',\n",
    "                format_branch_length='%1.8f')"
   ]
  },
  {
   "cell_type": "markdown",
   "id": "d4cc22cfd9e3f5a4",
   "metadata": {},
   "source": [
    "## Downsampling time trees\n",
    "\n",
    "### Obtaining strain ids and sequences.\n",
    "\n",
    "Below, if the sample size is over suggested_down_sample_tos then the normalised residuals from the root-to-tip regression above are used as weights in a probalitic draw to remove leaves from a list of all the tips. The tips that are left to keep are stored in a list. See beast_pype.tree_time_scale.temporal_pruning_sampler for details on weighted removal of tips method."
   ]
  },
  {
   "cell_type": "code",
   "execution_count": null,
   "id": "8c1f3a498592be4c",
   "metadata": {},
   "outputs": [],
   "source": [
    "if down_sample_to is not None:\n",
    "    strain_sequences = SeqIO.parse(fasta_file, 'fasta')\n",
    "    metadata_df = pd.read_csv(metadata_path, parse_dates=[collection_date_field])\n",
    "    tips = time_tree.tree.get_terminals()\n",
    "    n_tips = len(tips)\n",
    "    if down_sample_to < n_tips:\n",
    "        stuff_to_add = True\n",
    "        str_down_sample_to = str(down_sample_to)\n",
    "        sampled_ids = temporal_pruning_sampler(time_tree=time_tree, sample_size=down_sample_to)\n",
    "        tree = ete3.Tree(f'{save_dir}/full_time.nwk', format=1)\n",
    "        tree.prune(sampled_ids,  preserve_branch_length=True)\n",
    "        tree.write(outfile=f'{save_dir}/down_sampled_time.nwk',format=1)\n",
    "        selected_metadata = metadata_df[metadata_df.strain.isin(sampled_ids)]\n",
    "        selected_seqs = [seq_record for seq_record in strain_sequences if seq_record.id in sampled_ids]\n",
    "        selected_metadata.to_csv(f'{save_dir}/down_sampled_metadata.csv', index=False)\n",
    "        with open(f'{save_dir}/down_sampled_sequences.fasta', 'w') as handle:\n",
    "            SeqIO.write(selected_seqs, handle, 'fasta')\n"
   ]
  }
 ],
 "metadata": {
  "kernelspec": {
   "display_name": "beast_pype",
   "language": "python",
   "name": "beast_pype"
  },
  "language_info": {
   "codemirror_mode": {
    "name": "ipython",
    "version": 3
   },
   "file_extension": ".py",
   "mimetype": "text/x-python",
   "name": "python",
   "nbconvert_exporter": "python",
   "pygments_lexer": "ipython3",
   "version": "3.10.15"
  }
 },
 "nbformat": 4,
 "nbformat_minor": 5
}
