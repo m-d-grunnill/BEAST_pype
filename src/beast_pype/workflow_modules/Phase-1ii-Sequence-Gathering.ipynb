{
 "cells": [
  {
   "cell_type": "markdown",
   "id": "6a045ae9-8767-4ec7-bb83-457cf5d7157f",
   "metadata": {
    "editable": true,
    "slideshow": {
     "slide_type": ""
    },
    "tags": []
   },
   "source": [
    "# Phase 1ii: Garbbing Sequences & Running IQtree\n",
    "\n",
    "```\n",
    "Parameters\n",
    "-------------\n",
    "save_dir: str\n",
    "    Path to directory for saving outputs in.\n",
    "cache_dir: str \n",
    "    Path to directory for cached objects in.\n",
    "sequence_db: str\n",
    "    Path to fasta file containing sequences.\n",
    "partition: str\n",
    "    Name of partition to use when calling `sbatch`.\n",
    "```"
   ]
  },
  {
   "cell_type": "code",
   "execution_count": null,
   "id": "87149b5d-febb-409e-8554-5f625c2e20d1",
   "metadata": {
    "tags": [
     "parameters"
    ]
   },
   "outputs": [],
   "source": [
    "save_dir=runs_of_pipeline/2025-02-05\n",
    "cache_dir=cache\n",
    "sequence_db=None\n",
    "partition=None"
   ]
  },
  {
   "cell_type": "code",
   "execution_count": null,
   "id": "9c4fc3a0-5d92-4dc5-b5a7-c827bfeb1dc5",
   "metadata": {},
   "outputs": [],
   "source": [
    "# For some reason this still has to be called so that slurm's sbatch to use the beast_pype environment.\n",
    "source activate beast_pype"
   ]
  },
  {
   "cell_type": "markdown",
   "id": "3e223603-5319-4c9b-8cb4-b89c7ff82571",
   "metadata": {},
   "source": [
    "## Grabbing All Sequences"
   ]
  },
  {
   "cell_type": "code",
   "execution_count": null,
   "id": "56269f45-60a6-4bd1-9e47-4800066a8c66",
   "metadata": {
    "papermill": {
     "duration": 0.029015,
     "end_time": "2025-02-03T21:39:56.468871",
     "exception": false,
     "start_time": "2025-02-03T21:39:56.439856",
     "status": "completed"
    },
    "tags": []
   },
   "outputs": [],
   "source": [
    "cached_fasta_with_root=$cache_dir/sequences_with_root.fasta_file\n",
    "gabbing_sequences_out_file=$cache_dir/grabbing_sequences.out\n",
    "cached_ids_with_root=$cache_dir/all_IDs.txt\n",
    "job_ids_file=$cache_dir/slurm_job_ids.txt"
   ]
  },
  {
   "cell_type": "code",
   "execution_count": null,
   "id": "074429b1-e95a-4dd7-953c-fb0c27493b03",
   "metadata": {
    "papermill": {
     "duration": 1.232468,
     "end_time": "2025-02-03T21:39:57.710369",
     "exception": false,
     "start_time": "2025-02-03T21:39:56.477901",
     "status": "completed"
    },
    "tags": []
   },
   "outputs": [],
   "source": [
    "job_name=grabbing_all_sequences \n",
    "job_id=$(sbatch -p $partition -J $job_name -o $gabbing_sequences_out_file -c 8 --mem=4G --parsable --time=1-00:00:00\\\n",
    "    --wrap=\"seqkit grep $sequence_db -w 0 -f $cached_ids_with_root > $cached_fasta_with_root; echo 'slurm_job_complete'\")\n",
    "echo \"${job_id}\" >> $job_ids_file"
   ]
  },
  {
   "cell_type": "markdown",
   "id": "e7a1ca8a-2332-4d9a-85ad-2fd0b7668ed0",
   "metadata": {},
   "source": [
    "The `search_out_file_for_complete_phrase` function below is a hold function stopping the running of a notebook until a phrase appears in the slurm .out file.\n",
    "In th cell below this function holds the notebook up until all sequnces have been grabbed."
   ]
  },
  {
   "cell_type": "code",
   "execution_count": null,
   "id": "4963aa19-5944-4a32-8b45-4c466d2cf421",
   "metadata": {
    "tags": []
   },
   "outputs": [],
   "source": [
    "search_out_file_for_complete_phrase () {\n",
    "    job_complete=False\n",
    "    while [ \"$job_complete\" != \"True\" ]\n",
    "        do\n",
    "        if [ -f \"$1\" ]; then # If file exists. If a slurm job is pending the .out file may not have been created yet.\n",
    "            if grep -Fxq $2 $1; then # Checks for phrase in .out file.\n",
    "                job_complete=True # Trigger beark while loop clause.\n",
    "            else\n",
    "                sleep 10\n",
    "            fi\n",
    "        else\n",
    "            sleep 10\n",
    "        fi\n",
    "        done\n",
    "    }\n",
    "\n",
    "search_out_file_for_complete_phrase $gabbing_sequences_out_file 'slurm_job_complete'"
   ]
  },
  {
   "cell_type": "markdown",
   "id": "4677c07b-7f86-4a7b-aaf3-771974e955aa",
   "metadata": {
    "tags": []
   },
   "source": [
    "## Sorting Sequences Between strains"
   ]
  },
  {
   "cell_type": "code",
   "execution_count": null,
   "id": "8f1a930bf177b928",
   "metadata": {},
   "outputs": [],
   "source": [
    "for i in $save_dir/*\n",
    "    do                 \n",
    "    if [ -d $i ] && [ \"$i\" != \"$cache_dir\" ]; then\n",
    "        varient=${i##*/}\n",
    "        job_name=\"${xml_set}_strain_sequences\"\n",
    "        job_id=$(sbatch -p $partition -J $job_name -o $i/sequences.out -c 1 --mem=1G --parsable --time=4:00:00\\\n",
    "            --wrap=\"seqkit grep $cached_fasta_with_root -w 0 -f '$i/strain_IDs.txt' > '$i/sequences.fasta'; echo 'slurm_job_complete'\")\n",
    "        echo \"${job_id}\" >> $job_ids_file\n",
    "        job_name=\"${xml_set}_strain_with_root_sequences\"\n",
    "        job_id=$(sbatch -p $partition -J $job_name -o $i/sequences_with_root.out -c 1 --mem=1G --parsable --time=4:00:00\\\n",
    "            --wrap=\"seqkit grep $cached_fasta_with_root -w 0 -f '$i/strain_with_root_IDs.txt' > '$i/sequences_with_root.fasta'; echo 'slurm_job_complete'\")\n",
    "        echo \"${job_id}\" >> $job_ids_file\n",
    "        fi\n",
    "    done"
   ]
  },
  {
   "cell_type": "markdown",
   "id": "ae526ee4-c551-491d-b07f-e165a3145b7f",
   "metadata": {},
   "source": [
    "The code below uses `search_out_file_for_complete_phrase` to wait until the sbatch jobs creating the sequences.fasta and sequences_with_root.fasta for each strain have finished."
   ]
  },
  {
   "cell_type": "code",
   "execution_count": null,
   "id": "b723432e-60cc-49c5-aec3-b124f8316ea8",
   "metadata": {},
   "outputs": [],
   "source": [
    "for i in $save_dir/*\n",
    "    do \n",
    "    if [ -d $i ] && [ \"$i\" != \"$cache_dir\" ]; then\n",
    "        sequences_out=$i/sequences.out\n",
    "        search_out_file_for_complete_phrase $sequences_out 'slurm_job_complete'\n",
    "        sequences_with_root_out=$i/sequences_with_root.out\n",
    "        search_out_file_for_complete_phrase $sequences_with_root_out 'slurm_job_complete'\n",
    "    fi\n",
    "    done"
   ]
  },
  {
   "cell_type": "markdown",
   "id": "77577313-cad3-45a2-93bd-2b9c90c77f99",
   "metadata": {},
   "source": [
    "To check the progress of the slurm jobs use the terminal command: `squeue --me`."
   ]
  },
  {
   "cell_type": "code",
   "execution_count": null,
   "id": "73fb4d2aa00689cf",
   "metadata": {},
   "outputs": [],
   "source": []
  }
 ],
 "metadata": {
  "kernelspec": {
   "display_name": "Bash",
   "language": "bash",
   "name": "bash"
  },
  "language_info": {
   "codemirror_mode": "shell",
   "file_extension": ".sh",
   "mimetype": "text/x-sh",
   "name": "bash"
  }
 },
 "nbformat": 4,
 "nbformat_minor": 5
}
