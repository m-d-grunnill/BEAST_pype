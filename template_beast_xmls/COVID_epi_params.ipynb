{
 "cells": [
  {
   "cell_type": "markdown",
   "id": "432247aa3694b324",
   "metadata": {},
   "source": [
    "# COVID-19 Epidimiological Parameters\n",
    "\n",
    "Lets begin by uploading the LSHTM R package epiparameter."
   ]
  },
  {
   "cell_type": "code",
   "execution_count": 1,
   "id": "f81de54359513d16",
   "metadata": {
    "ExecuteTime": {
     "end_time": "2024-10-18T20:33:54.706880Z",
     "start_time": "2024-10-18T20:33:54.125976Z"
    }
   },
   "outputs": [],
   "source": [
    "# To use the R Magic commands\n",
    "import sys\n",
    "import os\n",
    "conda_env_path = sys.executable.replace(\"/bin/python\",\"\")\n",
    "os.environ[\"R_HOME\"] = f\"{conda_env_path}/lib/R\"\n",
    "%load_ext rpy2.ipython"
   ]
  },
  {
   "cell_type": "code",
   "execution_count": 2,
   "id": "ecee7a6dd1af3ae",
   "metadata": {
    "ExecuteTime": {
     "end_time": "2024-10-18T20:33:54.938360Z",
     "start_time": "2024-10-18T20:33:54.708106Z"
    }
   },
   "outputs": [
    {
     "name": "stderr",
     "output_type": "stream",
     "text": [
      "R[write to console]: Returning 125 results that match the criteria (100 are parameterised). \n",
      "Use subset to filter by entry variables or single_epiparameter to return a single entry. \n",
      "To retrieve the citation for each use the 'get_citation' function\n",
      "\n"
     ]
    }
   ],
   "source": [
    "%%R -o covid_epi_params\n",
    "#install.packages(\"epiparameter\")\n",
    "library(epiparameter)\n",
    "db <- epiparameter_db()\n",
    "covid_epi_params <- parameter_tbl(multi_epiparameter = db, disease = \"COVID-19\")"
   ]
  },
  {
   "cell_type": "code",
   "execution_count": 3,
   "id": "cc214e5f0da59810",
   "metadata": {
    "ExecuteTime": {
     "end_time": "2024-10-18T20:33:54.948950Z",
     "start_time": "2024-10-18T20:33:54.939174Z"
    }
   },
   "outputs": [
    {
     "data": {
      "text/html": [
       "<div>\n",
       "<style scoped>\n",
       "    .dataframe tbody tr th:only-of-type {\n",
       "        vertical-align: middle;\n",
       "    }\n",
       "\n",
       "    .dataframe tbody tr th {\n",
       "        vertical-align: top;\n",
       "    }\n",
       "\n",
       "    .dataframe thead th {\n",
       "        text-align: right;\n",
       "    }\n",
       "</style>\n",
       "<table border=\"1\" class=\"dataframe\">\n",
       "  <thead>\n",
       "    <tr style=\"text-align: right;\">\n",
       "      <th></th>\n",
       "      <th>disease</th>\n",
       "      <th>pathogen</th>\n",
       "      <th>epi_name</th>\n",
       "      <th>prob_distribution</th>\n",
       "      <th>author</th>\n",
       "      <th>year</th>\n",
       "      <th>sample_size</th>\n",
       "    </tr>\n",
       "  </thead>\n",
       "  <tbody>\n",
       "    <tr>\n",
       "      <th>1</th>\n",
       "      <td>COVID-19</td>\n",
       "      <td>SARS-CoV-2</td>\n",
       "      <td>incubation period</td>\n",
       "      <td>None</td>\n",
       "      <td>Men et al.</td>\n",
       "      <td>2020.0</td>\n",
       "      <td>59.0</td>\n",
       "    </tr>\n",
       "    <tr>\n",
       "      <th>2</th>\n",
       "      <td>COVID-19</td>\n",
       "      <td>SARS-CoV-2</td>\n",
       "      <td>incubation period</td>\n",
       "      <td>None</td>\n",
       "      <td>Rai et al.</td>\n",
       "      <td>2022.0</td>\n",
       "      <td>6241.0</td>\n",
       "    </tr>\n",
       "    <tr>\n",
       "      <th>3</th>\n",
       "      <td>COVID-19</td>\n",
       "      <td>SARS-CoV-2</td>\n",
       "      <td>incubation period</td>\n",
       "      <td>None</td>\n",
       "      <td>Alene et al.</td>\n",
       "      <td>2021.0</td>\n",
       "      <td>1453.0</td>\n",
       "    </tr>\n",
       "    <tr>\n",
       "      <th>4</th>\n",
       "      <td>COVID-19</td>\n",
       "      <td>SARS-CoV-2</td>\n",
       "      <td>serial interval</td>\n",
       "      <td>None</td>\n",
       "      <td>Alene et al.</td>\n",
       "      <td>2021.0</td>\n",
       "      <td>3924.0</td>\n",
       "    </tr>\n",
       "    <tr>\n",
       "      <th>5</th>\n",
       "      <td>COVID-19</td>\n",
       "      <td>SARS-CoV-2</td>\n",
       "      <td>serial interval</td>\n",
       "      <td>lnorm</td>\n",
       "      <td>Nishiura et al.</td>\n",
       "      <td>2020.0</td>\n",
       "      <td>28.0</td>\n",
       "    </tr>\n",
       "    <tr>\n",
       "      <th>6</th>\n",
       "      <td>COVID-19</td>\n",
       "      <td>SARS-CoV-2</td>\n",
       "      <td>serial interval</td>\n",
       "      <td>weibull</td>\n",
       "      <td>Nishiura et al.</td>\n",
       "      <td>2020.0</td>\n",
       "      <td>18.0</td>\n",
       "    </tr>\n",
       "    <tr>\n",
       "      <th>7</th>\n",
       "      <td>COVID-19</td>\n",
       "      <td>SARS-CoV-2</td>\n",
       "      <td>incubation period</td>\n",
       "      <td>weibull</td>\n",
       "      <td>Yang et al.</td>\n",
       "      <td>2020.0</td>\n",
       "      <td>178.0</td>\n",
       "    </tr>\n",
       "    <tr>\n",
       "      <th>8</th>\n",
       "      <td>COVID-19</td>\n",
       "      <td>SARS-CoV-2</td>\n",
       "      <td>serial interval</td>\n",
       "      <td>norm</td>\n",
       "      <td>Yang et al.</td>\n",
       "      <td>2020.0</td>\n",
       "      <td>131.0</td>\n",
       "    </tr>\n",
       "    <tr>\n",
       "      <th>9</th>\n",
       "      <td>COVID-19</td>\n",
       "      <td>SARS-CoV-2</td>\n",
       "      <td>incubation period</td>\n",
       "      <td>None</td>\n",
       "      <td>Elias et al.</td>\n",
       "      <td>2021.0</td>\n",
       "      <td>28675.0</td>\n",
       "    </tr>\n",
       "    <tr>\n",
       "      <th>10</th>\n",
       "      <td>COVID-19</td>\n",
       "      <td>SARS-CoV-2</td>\n",
       "      <td>incubation period</td>\n",
       "      <td>weibull</td>\n",
       "      <td>Bui et al.</td>\n",
       "      <td>2020.0</td>\n",
       "      <td>19.0</td>\n",
       "    </tr>\n",
       "    <tr>\n",
       "      <th>11</th>\n",
       "      <td>COVID-19</td>\n",
       "      <td>SARS-CoV-2</td>\n",
       "      <td>incubation period</td>\n",
       "      <td>lnorm</td>\n",
       "      <td>McAloon et al.</td>\n",
       "      <td>2020.0</td>\n",
       "      <td>1357.0</td>\n",
       "    </tr>\n",
       "    <tr>\n",
       "      <th>12</th>\n",
       "      <td>COVID-19</td>\n",
       "      <td>SARS-CoV-2</td>\n",
       "      <td>incubation period</td>\n",
       "      <td>lnorm</td>\n",
       "      <td>McAloon et al.</td>\n",
       "      <td>2020.0</td>\n",
       "      <td>1269.0</td>\n",
       "    </tr>\n",
       "    <tr>\n",
       "      <th>13</th>\n",
       "      <td>COVID-19</td>\n",
       "      <td>SARS-CoV-2</td>\n",
       "      <td>incubation period</td>\n",
       "      <td>lnorm</td>\n",
       "      <td>Linton et al.</td>\n",
       "      <td>2020.0</td>\n",
       "      <td>52.0</td>\n",
       "    </tr>\n",
       "    <tr>\n",
       "      <th>14</th>\n",
       "      <td>COVID-19</td>\n",
       "      <td>SARS-CoV-2</td>\n",
       "      <td>incubation period</td>\n",
       "      <td>lnorm</td>\n",
       "      <td>Linton et al.</td>\n",
       "      <td>2020.0</td>\n",
       "      <td>158.0</td>\n",
       "    </tr>\n",
       "    <tr>\n",
       "      <th>15</th>\n",
       "      <td>COVID-19</td>\n",
       "      <td>SARS-CoV-2</td>\n",
       "      <td>onset to hospitalisation</td>\n",
       "      <td>gamma</td>\n",
       "      <td>Linton et al.</td>\n",
       "      <td>2020.0</td>\n",
       "      <td>155.0</td>\n",
       "    </tr>\n",
       "    <tr>\n",
       "      <th>16</th>\n",
       "      <td>COVID-19</td>\n",
       "      <td>SARS-CoV-2</td>\n",
       "      <td>onset to hospitalisation</td>\n",
       "      <td>gamma</td>\n",
       "      <td>Linton et al.</td>\n",
       "      <td>2020.0</td>\n",
       "      <td>34.0</td>\n",
       "    </tr>\n",
       "    <tr>\n",
       "      <th>17</th>\n",
       "      <td>COVID-19</td>\n",
       "      <td>SARS-CoV-2</td>\n",
       "      <td>onset to death</td>\n",
       "      <td>lnorm</td>\n",
       "      <td>Linton et al.</td>\n",
       "      <td>2020.0</td>\n",
       "      <td>34.0</td>\n",
       "    </tr>\n",
       "    <tr>\n",
       "      <th>18</th>\n",
       "      <td>COVID-19</td>\n",
       "      <td>SARS-CoV-2</td>\n",
       "      <td>hospitalisation to death</td>\n",
       "      <td>weibull</td>\n",
       "      <td>Linton et al.</td>\n",
       "      <td>2020.0</td>\n",
       "      <td>39.0</td>\n",
       "    </tr>\n",
       "    <tr>\n",
       "      <th>19</th>\n",
       "      <td>COVID-19</td>\n",
       "      <td>SARS-CoV-2</td>\n",
       "      <td>incubation period</td>\n",
       "      <td>lnorm</td>\n",
       "      <td>Linton et al.</td>\n",
       "      <td>2020.0</td>\n",
       "      <td>52.0</td>\n",
       "    </tr>\n",
       "    <tr>\n",
       "      <th>20</th>\n",
       "      <td>COVID-19</td>\n",
       "      <td>SARS-CoV-2</td>\n",
       "      <td>onset to hospitalisation</td>\n",
       "      <td>lnorm</td>\n",
       "      <td>Linton et al.</td>\n",
       "      <td>2020.0</td>\n",
       "      <td>155.0</td>\n",
       "    </tr>\n",
       "    <tr>\n",
       "      <th>21</th>\n",
       "      <td>COVID-19</td>\n",
       "      <td>SARS-CoV-2</td>\n",
       "      <td>onset to hospitalisation</td>\n",
       "      <td>lnorm</td>\n",
       "      <td>Linton et al.</td>\n",
       "      <td>2020.0</td>\n",
       "      <td>34.0</td>\n",
       "    </tr>\n",
       "    <tr>\n",
       "      <th>22</th>\n",
       "      <td>COVID-19</td>\n",
       "      <td>SARS-CoV-2</td>\n",
       "      <td>onset to death</td>\n",
       "      <td>lnorm</td>\n",
       "      <td>Linton et al.</td>\n",
       "      <td>2020.0</td>\n",
       "      <td>34.0</td>\n",
       "    </tr>\n",
       "    <tr>\n",
       "      <th>23</th>\n",
       "      <td>COVID-19</td>\n",
       "      <td>SARS-CoV-2</td>\n",
       "      <td>hospitalisation to death</td>\n",
       "      <td>lnorm</td>\n",
       "      <td>Linton et al.</td>\n",
       "      <td>2020.0</td>\n",
       "      <td>39.0</td>\n",
       "    </tr>\n",
       "    <tr>\n",
       "      <th>24</th>\n",
       "      <td>COVID-19</td>\n",
       "      <td>SARS-CoV-2</td>\n",
       "      <td>incubation period</td>\n",
       "      <td>lnorm</td>\n",
       "      <td>Lauer et al.</td>\n",
       "      <td>2020.0</td>\n",
       "      <td>181.0</td>\n",
       "    </tr>\n",
       "    <tr>\n",
       "      <th>25</th>\n",
       "      <td>COVID-19</td>\n",
       "      <td>SARS-CoV-2</td>\n",
       "      <td>incubation period</td>\n",
       "      <td>lnorm</td>\n",
       "      <td>Lauer et al.</td>\n",
       "      <td>2020.0</td>\n",
       "      <td>99.0</td>\n",
       "    </tr>\n",
       "    <tr>\n",
       "      <th>26</th>\n",
       "      <td>COVID-19</td>\n",
       "      <td>SARS-CoV-2</td>\n",
       "      <td>incubation period</td>\n",
       "      <td>lnorm</td>\n",
       "      <td>Lauer et al.</td>\n",
       "      <td>2020.0</td>\n",
       "      <td>108.0</td>\n",
       "    </tr>\n",
       "    <tr>\n",
       "      <th>27</th>\n",
       "      <td>COVID-19</td>\n",
       "      <td>SARS-CoV-2</td>\n",
       "      <td>incubation period</td>\n",
       "      <td>lnorm</td>\n",
       "      <td>Lauer et al.</td>\n",
       "      <td>2020.0</td>\n",
       "      <td>73.0</td>\n",
       "    </tr>\n",
       "  </tbody>\n",
       "</table>\n",
       "</div>"
      ],
      "text/plain": [
       "     disease    pathogen                  epi_name prob_distribution  \\\n",
       "1   COVID-19  SARS-CoV-2         incubation period              None   \n",
       "2   COVID-19  SARS-CoV-2         incubation period              None   \n",
       "3   COVID-19  SARS-CoV-2         incubation period              None   \n",
       "4   COVID-19  SARS-CoV-2           serial interval              None   \n",
       "5   COVID-19  SARS-CoV-2           serial interval             lnorm   \n",
       "6   COVID-19  SARS-CoV-2           serial interval           weibull   \n",
       "7   COVID-19  SARS-CoV-2         incubation period           weibull   \n",
       "8   COVID-19  SARS-CoV-2           serial interval              norm   \n",
       "9   COVID-19  SARS-CoV-2         incubation period              None   \n",
       "10  COVID-19  SARS-CoV-2         incubation period           weibull   \n",
       "11  COVID-19  SARS-CoV-2         incubation period             lnorm   \n",
       "12  COVID-19  SARS-CoV-2         incubation period             lnorm   \n",
       "13  COVID-19  SARS-CoV-2         incubation period             lnorm   \n",
       "14  COVID-19  SARS-CoV-2         incubation period             lnorm   \n",
       "15  COVID-19  SARS-CoV-2  onset to hospitalisation             gamma   \n",
       "16  COVID-19  SARS-CoV-2  onset to hospitalisation             gamma   \n",
       "17  COVID-19  SARS-CoV-2            onset to death             lnorm   \n",
       "18  COVID-19  SARS-CoV-2  hospitalisation to death           weibull   \n",
       "19  COVID-19  SARS-CoV-2         incubation period             lnorm   \n",
       "20  COVID-19  SARS-CoV-2  onset to hospitalisation             lnorm   \n",
       "21  COVID-19  SARS-CoV-2  onset to hospitalisation             lnorm   \n",
       "22  COVID-19  SARS-CoV-2            onset to death             lnorm   \n",
       "23  COVID-19  SARS-CoV-2  hospitalisation to death             lnorm   \n",
       "24  COVID-19  SARS-CoV-2         incubation period             lnorm   \n",
       "25  COVID-19  SARS-CoV-2         incubation period             lnorm   \n",
       "26  COVID-19  SARS-CoV-2         incubation period             lnorm   \n",
       "27  COVID-19  SARS-CoV-2         incubation period             lnorm   \n",
       "\n",
       "             author    year  sample_size  \n",
       "1        Men et al.  2020.0         59.0  \n",
       "2        Rai et al.  2022.0       6241.0  \n",
       "3      Alene et al.  2021.0       1453.0  \n",
       "4      Alene et al.  2021.0       3924.0  \n",
       "5   Nishiura et al.  2020.0         28.0  \n",
       "6   Nishiura et al.  2020.0         18.0  \n",
       "7       Yang et al.  2020.0        178.0  \n",
       "8       Yang et al.  2020.0        131.0  \n",
       "9      Elias et al.  2021.0      28675.0  \n",
       "10       Bui et al.  2020.0         19.0  \n",
       "11   McAloon et al.  2020.0       1357.0  \n",
       "12   McAloon et al.  2020.0       1269.0  \n",
       "13    Linton et al.  2020.0         52.0  \n",
       "14    Linton et al.  2020.0        158.0  \n",
       "15    Linton et al.  2020.0        155.0  \n",
       "16    Linton et al.  2020.0         34.0  \n",
       "17    Linton et al.  2020.0         34.0  \n",
       "18    Linton et al.  2020.0         39.0  \n",
       "19    Linton et al.  2020.0         52.0  \n",
       "20    Linton et al.  2020.0        155.0  \n",
       "21    Linton et al.  2020.0         34.0  \n",
       "22    Linton et al.  2020.0         34.0  \n",
       "23    Linton et al.  2020.0         39.0  \n",
       "24     Lauer et al.  2020.0        181.0  \n",
       "25     Lauer et al.  2020.0         99.0  \n",
       "26     Lauer et al.  2020.0        108.0  \n",
       "27     Lauer et al.  2020.0         73.0  "
      ]
     },
     "execution_count": 3,
     "metadata": {},
     "output_type": "execute_result"
    }
   ],
   "source": [
    "covid_epi_params\n"
   ]
  },
  {
   "cell_type": "code",
   "execution_count": 4,
   "id": "942d5f738653ca37",
   "metadata": {
    "ExecuteTime": {
     "end_time": "2024-10-18T20:33:54.955741Z",
     "start_time": "2024-10-18T20:33:54.950198Z"
    }
   },
   "outputs": [
    {
     "ename": "AttributeError",
     "evalue": "'DataFrame' object has no attribute 'epi_distribution'",
     "output_type": "error",
     "traceback": [
      "\u001B[0;31m---------------------------------------------------------------------------\u001B[0m",
      "\u001B[0;31mAttributeError\u001B[0m                            Traceback (most recent call last)",
      "\u001B[0;32m/tmp/ipykernel_1030478/1930092229.py\u001B[0m in \u001B[0;36m?\u001B[0;34m()\u001B[0m\n\u001B[0;32m----> 1\u001B[0;31m \u001B[0mcovid_epi_params\u001B[0m\u001B[0;34m.\u001B[0m\u001B[0mepi_distribution\u001B[0m\u001B[0;34m.\u001B[0m\u001B[0mvalue_counts\u001B[0m\u001B[0;34m(\u001B[0m\u001B[0;34m)\u001B[0m\u001B[0;34m\u001B[0m\u001B[0;34m\u001B[0m\u001B[0m\n\u001B[0m",
      "\u001B[0;32m/Drives/P/conda_envs/beast_pype/lib/python3.10/site-packages/pandas/core/generic.py\u001B[0m in \u001B[0;36m?\u001B[0;34m(self, name)\u001B[0m\n\u001B[1;32m   6295\u001B[0m             \u001B[0;32mand\u001B[0m \u001B[0mname\u001B[0m \u001B[0;32mnot\u001B[0m \u001B[0;32min\u001B[0m \u001B[0mself\u001B[0m\u001B[0;34m.\u001B[0m\u001B[0m_accessors\u001B[0m\u001B[0;34m\u001B[0m\u001B[0;34m\u001B[0m\u001B[0m\n\u001B[1;32m   6296\u001B[0m             \u001B[0;32mand\u001B[0m \u001B[0mself\u001B[0m\u001B[0;34m.\u001B[0m\u001B[0m_info_axis\u001B[0m\u001B[0;34m.\u001B[0m\u001B[0m_can_hold_identifiers_and_holds_name\u001B[0m\u001B[0;34m(\u001B[0m\u001B[0mname\u001B[0m\u001B[0;34m)\u001B[0m\u001B[0;34m\u001B[0m\u001B[0;34m\u001B[0m\u001B[0m\n\u001B[1;32m   6297\u001B[0m         ):\n\u001B[1;32m   6298\u001B[0m             \u001B[0;32mreturn\u001B[0m \u001B[0mself\u001B[0m\u001B[0;34m[\u001B[0m\u001B[0mname\u001B[0m\u001B[0;34m]\u001B[0m\u001B[0;34m\u001B[0m\u001B[0;34m\u001B[0m\u001B[0m\n\u001B[0;32m-> 6299\u001B[0;31m         \u001B[0;32mreturn\u001B[0m \u001B[0mobject\u001B[0m\u001B[0;34m.\u001B[0m\u001B[0m__getattribute__\u001B[0m\u001B[0;34m(\u001B[0m\u001B[0mself\u001B[0m\u001B[0;34m,\u001B[0m \u001B[0mname\u001B[0m\u001B[0;34m)\u001B[0m\u001B[0;34m\u001B[0m\u001B[0;34m\u001B[0m\u001B[0m\n\u001B[0m",
      "\u001B[0;31mAttributeError\u001B[0m: 'DataFrame' object has no attribute 'epi_distribution'"
     ]
    }
   ],
   "source": [
    "covid_epi_params.epi_distribution.value_counts()"
   ]
  },
  {
   "cell_type": "markdown",
   "id": "5a1e612c7690480",
   "metadata": {},
   "source": [
    "## COVID-19 Infection Period/Rate of Becoming Uninfectious\n",
    "\n",
    "Epiparameter seems to have nothing on the entire infection period. We will use the Killingley et al (2022) human challenge of anncestral COVID-19:\n",
    " \n",
    "Killingley, B., Mann, A. J., Kalinova, M., Boyers, A., Goonawardane, N., Zhou, J., Lindsell, K., Hare, S. S., Brown, J., Frise, R. R., Smith, E., Hopkins, C., Noulin, N., Löndt, B., Wilkinson, T., Harden, S., McShane, H., Baillet, M., Gilbert, A., … Catchpole, A. P. (2022). Safety, tolerability and viral kinetics during SARS-CoV-2 human challenge. In Nature Medicine (Vol. 28, Issue 5). Nature Publishing Group. https://doi.org/10.21203/RS.3.RS-1121993/V1\n",
    "\n",
    "![COVID-19 viral titres.png](COVID-19 viral titres.png)\n",
    "\n",
    "Fig. 2 | Viral shedding after a short incubation period peaks rapidly after human SARS-CoV-2 challenge. Healthy adult volunteers were challenged intranasally with SARS-CoV-2. In the infected individuals (n = 18 biologically independent participants), VL in twice-daily nose and throat swab samples was measured by qPCR (blue) and FFA (red). ~~~ g, Median time to the last viral detection by FFA after inoculation is shown in red (*P = 0.0112)\n",
    "\n",
    "FFA: viable virus measured by focus-forming assay (FFA).\n",
    "\n",
    "*Note* from discusion 'Detailed viral kinetics show that some individuals still shed culturable virus at 12 days after inoculation (that is, up to 10 days after symptom onset), and, on average, viable virus was still detect- able 10 days after inoculation (up to 8 days after symptom onset)'.\n",
    "\n",
    "Lets get a vector form of fig 2g.b\n"
   ]
  },
  {
   "cell_type": "code",
   "execution_count": null,
   "id": "856b96b3f498c3bc",
   "metadata": {
    "ExecuteTime": {
     "end_time": "2024-10-18T20:33:54.965039Z",
     "start_time": "2024-10-18T20:33:54.956527Z"
    }
   },
   "outputs": [],
   "source": [
    "import numpy as np\n",
    "last_nose_ffa_value_counts  = {5.5:1, 7.5:1, 8:1, 8.5:2, 9:1, 9.5:2, 10:2, 10.5:4, 11.5:3, 12:1}\n",
    "last_nose_ffa_value_days = []\n",
    "for value, count in last_nose_ffa_value_counts.items():\n",
    "    last_nose_ffa_value_days += [value] * count\n",
    "\n",
    "last_nose_ffa_value_days = np.array(last_nose_ffa_value_days)\n",
    "last_nose_ffa_value_days"
   ]
  },
  {
   "cell_type": "code",
   "execution_count": null,
   "id": "5183a4c4b3f95692",
   "metadata": {
    "ExecuteTime": {
     "end_time": "2024-10-18T20:33:54.973687Z",
     "start_time": "2024-10-18T20:33:54.965839Z"
    }
   },
   "outputs": [],
   "source": [
    "last_nose_ffa_rate_days = 1/last_nose_ffa_value_days\n",
    "last_nose_ffa_rate_years = last_nose_ffa_rate_days*365.25\n",
    "last_nose_ffa_rate_years"
   ]
  },
  {
   "cell_type": "code",
   "execution_count": null,
   "id": "e1e97c5b5820fa2",
   "metadata": {
    "ExecuteTime": {
     "end_time": "2024-10-18T20:33:55.162597Z",
     "start_time": "2024-10-18T20:33:54.974879Z"
    }
   },
   "outputs": [],
   "source": [
    "import seaborn as sns\n",
    "sns.histplot(last_nose_ffa_rate_years, bins= 30, kde=True)"
   ]
  },
  {
   "cell_type": "code",
   "execution_count": null,
   "id": "b4e4e31a8e00ad6c",
   "metadata": {
    "ExecuteTime": {
     "end_time": "2024-10-18T20:33:55.186968Z",
     "start_time": "2024-10-18T20:33:55.163561Z"
    }
   },
   "outputs": [],
   "source": [
    "from scipy.stats import gamma\n",
    "# see ?gamma.fit \n",
    "fit_a, fit_loc, fit_scale = gamma.fit(last_nose_ffa_rate_years)\n",
    "gamma_fit = {'a': fit_a, 'loc': fit_loc, 'scale':fit_scale}\n",
    "gamma_fit "
   ]
  },
  {
   "cell_type": "code",
   "execution_count": null,
   "id": "651c2d02af58c6c8",
   "metadata": {
    "ExecuteTime": {
     "end_time": "2024-10-18T20:33:55.206401Z",
     "start_time": "2024-10-18T20:33:55.187911Z"
    }
   },
   "outputs": [],
   "source": [
    "from src.beast_pype import gamma_df, plot_gamma_df\n",
    "df = gamma_df(**gamma_fit)\n",
    "df"
   ]
  },
  {
   "cell_type": "code",
   "execution_count": null,
   "id": "d6e81d5a672c3f99",
   "metadata": {
    "ExecuteTime": {
     "end_time": "2024-10-18T20:33:55.655210Z",
     "start_time": "2024-10-18T20:33:55.207834Z"
    }
   },
   "outputs": [],
   "source": [
    "fig = plot_gamma_df(df)"
   ]
  },
  {
   "cell_type": "markdown",
   "id": "36d53b972dacd28c",
   "metadata": {},
   "source": [
    "**This does not allow for infection periods beyond 12 will have to choose something different.**\n",
    "\n",
    "Lets try fixing location to 0."
   ]
  },
  {
   "cell_type": "code",
   "execution_count": null,
   "id": "a7100de6afd35f80",
   "metadata": {
    "ExecuteTime": {
     "end_time": "2024-10-18T20:33:56.177341Z",
     "start_time": "2024-10-18T20:33:55.656199Z"
    }
   },
   "outputs": [],
   "source": [
    "fit_a, fit_loc, fit_scale = gamma.fit(last_nose_ffa_rate_years, floc=0)\n",
    "gamma_fit = {'a': fit_a, 'loc': fit_loc, 'scale':fit_scale}\n",
    "df = gamma_df(**gamma_fit)\n",
    "fig = plot_gamma_df(df)"
   ]
  },
  {
   "cell_type": "markdown",
   "id": "264e5292b4af4466",
   "metadata": {},
   "source": [
    "Much better with a prior broad enough to account for changes seen in later strains."
   ]
  },
  {
   "cell_type": "code",
   "execution_count": null,
   "id": "357a50eb8607294c",
   "metadata": {
    "ExecuteTime": {
     "end_time": "2024-10-18T20:33:56.181062Z",
     "start_time": "2024-10-18T20:33:56.178276Z"
    }
   },
   "outputs": [],
   "source": [
    "gamma_fit"
   ]
  },
  {
   "cell_type": "code",
   "execution_count": null,
   "id": "88d11308c142ecdd",
   "metadata": {
    "ExecuteTime": {
     "end_time": "2024-10-18T20:33:56.189520Z",
     "start_time": "2024-10-18T20:33:56.182078Z"
    }
   },
   "outputs": [],
   "source": [
    "infectious_period_in_years = 10/365.25\n",
    "rate_years = 1/infectious_period_in_years\n",
    "rate_years"
   ]
  },
  {
   "cell_type": "markdown",
   "id": "9d11db6bd2a6d6f6",
   "metadata": {},
   "source": [
    "# Substitution Rate"
   ]
  },
  {
   "cell_type": "code",
   "execution_count": null,
   "id": "41a95a74e204d3a4",
   "metadata": {
    "ExecuteTime": {
     "end_time": "2024-10-18T20:33:56.198243Z",
     "start_time": "2024-10-18T20:33:56.190470Z"
    }
   },
   "outputs": [],
   "source": [
    "from src.beast_pype import gamma_from_mean\n",
    "gamma_from_mean(mu=0.0004, sd=0.0003)"
   ]
  }
 ],
 "metadata": {
  "kernelspec": {
   "display_name": "beast_pype",
   "language": "python",
   "name": "beast_pype"
  },
  "language_info": {
   "codemirror_mode": {
    "name": "ipython",
    "version": 3
   },
   "file_extension": ".py",
   "mimetype": "text/x-python",
   "name": "python",
   "nbconvert_exporter": "python",
   "pygments_lexer": "ipython3",
   "version": "3.10.15"
  }
 },
 "nbformat": 4,
 "nbformat_minor": 5
}
